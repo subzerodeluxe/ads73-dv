{
 "cells": [
  {
   "cell_type": "code",
   "execution_count": 18,
   "metadata": {
    "collapsed": true
   },
   "outputs": [],
   "source": [
    "import numpy as np\n",
    "import pandas as pd\n",
    "\n",
    "from pandas import Series, DataFrame\n",
    "from sklearn.preprocessing import Imputer "
   ]
  },
  {
   "cell_type": "markdown",
   "metadata": {},
   "source": [
    "## 1. Explore dataset in Excel\n",
    "I used Microsoft Excel to quickly scan the dataset. <br> Not only did I want to get a sense of the quality of the data, but I also just wanted to get an overview of the features it contains. A few things came to mind after exploring:\n",
    "\n",
    "- There could be some missing values \n",
    "- Some values contain text (string) while other have a numeric (integer) value\n",
    "- Could be a good idea to segment the data per category\n"
   ]
  },
  {
   "cell_type": "markdown",
   "metadata": {},
   "source": [
    "## 2. Import the dataset\n",
    "\n",
    "Since the dateset already is a csv file, there was no need to do some additional transformations. <br>\n",
    "I therefore simply imported the data into a dataFrame using the statements below: "
   ]
  },
  {
   "cell_type": "code",
   "execution_count": 19,
   "metadata": {},
   "outputs": [
    {
     "data": {
      "text/html": [
       "<div>\n",
       "<style>\n",
       "    .dataframe thead tr:only-child th {\n",
       "        text-align: right;\n",
       "    }\n",
       "\n",
       "    .dataframe thead th {\n",
       "        text-align: left;\n",
       "    }\n",
       "\n",
       "    .dataframe tbody tr th {\n",
       "        vertical-align: top;\n",
       "    }\n",
       "</style>\n",
       "<table border=\"1\" class=\"dataframe\">\n",
       "  <thead>\n",
       "    <tr style=\"text-align: right;\">\n",
       "      <th></th>\n",
       "      <th>Music</th>\n",
       "      <th>Slow songs or fast songs</th>\n",
       "      <th>Dance</th>\n",
       "      <th>Folk</th>\n",
       "      <th>Country</th>\n",
       "      <th>Classical music</th>\n",
       "      <th>Musical</th>\n",
       "      <th>Pop</th>\n",
       "      <th>Rock</th>\n",
       "      <th>Metal or Hardrock</th>\n",
       "      <th>...</th>\n",
       "      <th>Age</th>\n",
       "      <th>Height</th>\n",
       "      <th>Weight</th>\n",
       "      <th>Number of siblings</th>\n",
       "      <th>Gender</th>\n",
       "      <th>Left - right handed</th>\n",
       "      <th>Education</th>\n",
       "      <th>Only child</th>\n",
       "      <th>Village - town</th>\n",
       "      <th>House - block of flats</th>\n",
       "    </tr>\n",
       "  </thead>\n",
       "  <tbody>\n",
       "    <tr>\n",
       "      <th>0</th>\n",
       "      <td>5.0</td>\n",
       "      <td>3.0</td>\n",
       "      <td>2.0</td>\n",
       "      <td>1.0</td>\n",
       "      <td>2.0</td>\n",
       "      <td>2.0</td>\n",
       "      <td>1.0</td>\n",
       "      <td>5.0</td>\n",
       "      <td>5.0</td>\n",
       "      <td>1.0</td>\n",
       "      <td>...</td>\n",
       "      <td>20.0</td>\n",
       "      <td>163.0</td>\n",
       "      <td>48.0</td>\n",
       "      <td>1.0</td>\n",
       "      <td>female</td>\n",
       "      <td>right handed</td>\n",
       "      <td>college/bachelor degree</td>\n",
       "      <td>no</td>\n",
       "      <td>village</td>\n",
       "      <td>block of flats</td>\n",
       "    </tr>\n",
       "    <tr>\n",
       "      <th>1</th>\n",
       "      <td>4.0</td>\n",
       "      <td>4.0</td>\n",
       "      <td>2.0</td>\n",
       "      <td>1.0</td>\n",
       "      <td>1.0</td>\n",
       "      <td>1.0</td>\n",
       "      <td>2.0</td>\n",
       "      <td>3.0</td>\n",
       "      <td>5.0</td>\n",
       "      <td>4.0</td>\n",
       "      <td>...</td>\n",
       "      <td>19.0</td>\n",
       "      <td>163.0</td>\n",
       "      <td>58.0</td>\n",
       "      <td>2.0</td>\n",
       "      <td>female</td>\n",
       "      <td>right handed</td>\n",
       "      <td>college/bachelor degree</td>\n",
       "      <td>no</td>\n",
       "      <td>city</td>\n",
       "      <td>block of flats</td>\n",
       "    </tr>\n",
       "    <tr>\n",
       "      <th>2</th>\n",
       "      <td>5.0</td>\n",
       "      <td>5.0</td>\n",
       "      <td>2.0</td>\n",
       "      <td>2.0</td>\n",
       "      <td>3.0</td>\n",
       "      <td>4.0</td>\n",
       "      <td>5.0</td>\n",
       "      <td>3.0</td>\n",
       "      <td>5.0</td>\n",
       "      <td>3.0</td>\n",
       "      <td>...</td>\n",
       "      <td>20.0</td>\n",
       "      <td>176.0</td>\n",
       "      <td>67.0</td>\n",
       "      <td>2.0</td>\n",
       "      <td>female</td>\n",
       "      <td>right handed</td>\n",
       "      <td>secondary school</td>\n",
       "      <td>no</td>\n",
       "      <td>city</td>\n",
       "      <td>block of flats</td>\n",
       "    </tr>\n",
       "    <tr>\n",
       "      <th>3</th>\n",
       "      <td>5.0</td>\n",
       "      <td>3.0</td>\n",
       "      <td>2.0</td>\n",
       "      <td>1.0</td>\n",
       "      <td>1.0</td>\n",
       "      <td>1.0</td>\n",
       "      <td>1.0</td>\n",
       "      <td>2.0</td>\n",
       "      <td>2.0</td>\n",
       "      <td>1.0</td>\n",
       "      <td>...</td>\n",
       "      <td>22.0</td>\n",
       "      <td>172.0</td>\n",
       "      <td>59.0</td>\n",
       "      <td>1.0</td>\n",
       "      <td>female</td>\n",
       "      <td>right handed</td>\n",
       "      <td>college/bachelor degree</td>\n",
       "      <td>yes</td>\n",
       "      <td>city</td>\n",
       "      <td>house/bungalow</td>\n",
       "    </tr>\n",
       "    <tr>\n",
       "      <th>4</th>\n",
       "      <td>5.0</td>\n",
       "      <td>3.0</td>\n",
       "      <td>4.0</td>\n",
       "      <td>3.0</td>\n",
       "      <td>2.0</td>\n",
       "      <td>4.0</td>\n",
       "      <td>3.0</td>\n",
       "      <td>5.0</td>\n",
       "      <td>3.0</td>\n",
       "      <td>1.0</td>\n",
       "      <td>...</td>\n",
       "      <td>20.0</td>\n",
       "      <td>170.0</td>\n",
       "      <td>59.0</td>\n",
       "      <td>1.0</td>\n",
       "      <td>female</td>\n",
       "      <td>right handed</td>\n",
       "      <td>secondary school</td>\n",
       "      <td>no</td>\n",
       "      <td>village</td>\n",
       "      <td>house/bungalow</td>\n",
       "    </tr>\n",
       "  </tbody>\n",
       "</table>\n",
       "<p>5 rows × 150 columns</p>\n",
       "</div>"
      ],
      "text/plain": [
       "   Music  Slow songs or fast songs  Dance  Folk  Country  Classical music  \\\n",
       "0    5.0                       3.0    2.0   1.0      2.0              2.0   \n",
       "1    4.0                       4.0    2.0   1.0      1.0              1.0   \n",
       "2    5.0                       5.0    2.0   2.0      3.0              4.0   \n",
       "3    5.0                       3.0    2.0   1.0      1.0              1.0   \n",
       "4    5.0                       3.0    4.0   3.0      2.0              4.0   \n",
       "\n",
       "   Musical  Pop  Rock  Metal or Hardrock           ...             Age  \\\n",
       "0      1.0  5.0   5.0                1.0           ...            20.0   \n",
       "1      2.0  3.0   5.0                4.0           ...            19.0   \n",
       "2      5.0  3.0   5.0                3.0           ...            20.0   \n",
       "3      1.0  2.0   2.0                1.0           ...            22.0   \n",
       "4      3.0  5.0   3.0                1.0           ...            20.0   \n",
       "\n",
       "   Height  Weight  Number of siblings  Gender  Left - right handed  \\\n",
       "0   163.0    48.0                 1.0  female         right handed   \n",
       "1   163.0    58.0                 2.0  female         right handed   \n",
       "2   176.0    67.0                 2.0  female         right handed   \n",
       "3   172.0    59.0                 1.0  female         right handed   \n",
       "4   170.0    59.0                 1.0  female         right handed   \n",
       "\n",
       "                 Education  Only child  Village - town  House - block of flats  \n",
       "0  college/bachelor degree          no         village          block of flats  \n",
       "1  college/bachelor degree          no            city          block of flats  \n",
       "2         secondary school          no            city          block of flats  \n",
       "3  college/bachelor degree         yes            city          house/bungalow  \n",
       "4         secondary school          no         village          house/bungalow  \n",
       "\n",
       "[5 rows x 150 columns]"
      ]
     },
     "execution_count": 19,
     "metadata": {},
     "output_type": "execute_result"
    }
   ],
   "source": [
    "# Import the csv file and seperate at , \n",
    "responses = \"responses.csv\"\n",
    "responsesDf = pd.read_csv(responses, sep=',')\n",
    "\n",
    "responsesDf.head()"
   ]
  },
  {
   "cell_type": "markdown",
   "metadata": {},
   "source": [
    "## 3. Creating segments\n",
    "I decided to start dividing up the data into segments in order to make it easier for myself to work with the data. <br>\n",
    "\n",
    "Pandas offers a nice slicing method for slicing the dataset. I used iloc to create the segments.<br>\n",
    "\n",
    "I also updated the column names."
   ]
  },
  {
   "cell_type": "code",
   "execution_count": 20,
   "metadata": {
    "collapsed": true
   },
   "outputs": [],
   "source": [
    "# 1\n",
    "music = responsesDf.iloc[:,0:19]\n",
    "# 2\n",
    "movies = responsesDf.iloc[:,19:31]\n",
    "# 3\n",
    "phobias = responsesDf.iloc[:,63:73]\n",
    "# 4\n",
    "interests = responsesDf.iloc[:,31:63]\n",
    "# 5\n",
    "health = responsesDf.iloc[:,73:76]    ### CATEGORIAL STRINGS\n",
    "# 6 \n",
    "mindset = responsesDf.iloc[:, 76:133] \n",
    "# 7 \n",
    "personal = responsesDf.iloc[:,140:150]\n",
    "# 8 \n",
    "spendingHabits = responsesDf.iloc[:,133:140]\n",
    "\n",
    "## change name of columns to make it easier to identify the columns  \n",
    "music.columns = ['music', 'speed', 'dance', 'folk', 'country', 'classical', 'musical', 'pop', 'rock', 'metal', 'punk', 'hiphop', 'reggae', 'jazz', 'rockNroll', 'alternative', 'latino', 'techno', 'opera'] \n",
    "movies.columns = ['movies', 'horror', 'thriller', 'comedy', 'romantic', 'scifi', 'war', 'fantasy', 'animated', 'documentary', 'western', 'action']\n",
    "phobias.columns = ['flying', 'storm', 'darkness', 'heights', 'spiders', 'snakes', 'rats', 'ageing', 'dogs', 'speaking']\n",
    "interests.columns = ['history', 'psychology', 'politics', 'math', 'physics', 'internet', 'pc', 'economy', 'biology', 'chemistry', \n",
    "                    'reading', 'geography', 'languages', 'medicine', 'law', 'cars', 'art', 'religion', 'outdoors', 'dancing', \n",
    "                    'instruments', 'writing', 'activeSport', 'passiveSport', 'gardening', 'celebrities', 'shopping', 'science', 'theatre', 'funs', 'extremeSports', 'pets']\n",
    "health.columns = ['smoking', 'alcohol', 'healthyFood']\n",
    "personal.columns = ['age', 'height', 'weight', 'siblings', 'gender', 'hand', 'education', 'onlyChild', 'place', 'typeOfHouse']\n",
    "spendingHabits.columns = ['finances', 'shoppingCentres', 'brandedClothing', 'entertainment', 'looks', 'gadgets', 'healthyFood']"
   ]
  },
  {
   "cell_type": "markdown",
   "metadata": {},
   "source": [
    "\n",
    "\n",
    "## 4. Missing values "
   ]
  },
  {
   "cell_type": "markdown",
   "metadata": {},
   "source": [
    "I first did some more exploration on which values are missing. I did this for every segment."
   ]
  },
  {
   "cell_type": "code",
   "execution_count": 21,
   "metadata": {
    "collapsed": true
   },
   "outputs": [],
   "source": [
    "## method that counts the amount of missing values in the data frame \n",
    "def countMissing(df): \n",
    "    number = df.isnull().sum()\n",
    "    return number"
   ]
  },
  {
   "cell_type": "markdown",
   "metadata": {},
   "source": [
    "### 4.1 Music segment"
   ]
  },
  {
   "cell_type": "code",
   "execution_count": 22,
   "metadata": {},
   "outputs": [
    {
     "data": {
      "text/plain": [
       "music          3\n",
       "speed          2\n",
       "dance          4\n",
       "folk           5\n",
       "country        5\n",
       "classical      7\n",
       "musical        2\n",
       "pop            3\n",
       "rock           6\n",
       "metal          3\n",
       "punk           8\n",
       "hiphop         4\n",
       "reggae         7\n",
       "jazz           6\n",
       "rockNroll      7\n",
       "alternative    7\n",
       "latino         8\n",
       "techno         7\n",
       "opera          1\n",
       "dtype: int64"
      ]
     },
     "execution_count": 22,
     "metadata": {},
     "output_type": "execute_result"
    }
   ],
   "source": [
    "countMissing(music)"
   ]
  },
  {
   "cell_type": "markdown",
   "metadata": {},
   "source": [
    "#### Using Imputer() to transform missing values\n",
    "Scikit Learn offers an imputation transformer for completing missing values\n",
    "See: http://scikit-learn.org/stable/modules/generated/sklearn.preprocessing.Imputer.html \n",
    "\n",
    "I used the most frequent strategy, which uses the mode of the columns. "
   ]
  },
  {
   "cell_type": "code",
   "execution_count": 23,
   "metadata": {
    "collapsed": true
   },
   "outputs": [],
   "source": [
    "music = music.replace(\"nan\", np.nan)\n",
    "music = music.replace(\"NaN\", np.nan)\n",
    "\n",
    "imp = Imputer(missing_values='NaN', strategy='most_frequent', axis=0)\n",
    "imp.fit(music)\n",
    "music_data = imp.transform(music)\n",
    "\n",
    "### The missing values are being \n",
    "music = pd.DataFrame(data=music_data[:,:],\n",
    "                     index=[i for i in range(len(music_data))],\n",
    "                     columns=music.columns.tolist())"
   ]
  },
  {
   "cell_type": "markdown",
   "metadata": {
    "collapsed": true
   },
   "source": [
    "### 4.2 Movies segment"
   ]
  },
  {
   "cell_type": "code",
   "execution_count": 24,
   "metadata": {},
   "outputs": [
    {
     "data": {
      "text/plain": [
       "movies         6\n",
       "horror         2\n",
       "thriller       1\n",
       "comedy         3\n",
       "romantic       3\n",
       "scifi          2\n",
       "war            2\n",
       "fantasy        3\n",
       "animated       3\n",
       "documentary    8\n",
       "western        4\n",
       "action         2\n",
       "dtype: int64"
      ]
     },
     "execution_count": 24,
     "metadata": {},
     "output_type": "execute_result"
    }
   ],
   "source": [
    "### count the amount of missing value in the data frame\n",
    "countMissing(movies)"
   ]
  },
  {
   "cell_type": "code",
   "execution_count": 25,
   "metadata": {
    "collapsed": true
   },
   "outputs": [],
   "source": [
    "movies = movies.replace(\"nan\", np.nan)\n",
    "movies = movies.replace(\"NaN\", np.nan)\n",
    "\n",
    "imp = Imputer(missing_values='NaN', strategy='most_frequent', axis=0)\n",
    "imp.fit(movies)\n",
    "movies_data = imp.transform(movies)\n",
    "\n",
    "### The missing values are being  \n",
    "movies = pd.DataFrame(data=movies_data[:,:],\n",
    "                     index=[i for i in range(len(movies_data))],\n",
    "                     columns=movies.columns.tolist())"
   ]
  },
  {
   "cell_type": "markdown",
   "metadata": {},
   "source": [
    "### 4.2 Phobias segment"
   ]
  },
  {
   "cell_type": "code",
   "execution_count": 26,
   "metadata": {},
   "outputs": [
    {
     "data": {
      "text/plain": [
       "flying      3\n",
       "storm       1\n",
       "darkness    2\n",
       "heights     3\n",
       "spiders     5\n",
       "snakes      0\n",
       "rats        3\n",
       "ageing      1\n",
       "dogs        1\n",
       "speaking    1\n",
       "dtype: int64"
      ]
     },
     "execution_count": 26,
     "metadata": {},
     "output_type": "execute_result"
    }
   ],
   "source": [
    "### count the amount of missing value in the data frame\n",
    "countMissing(phobias)"
   ]
  },
  {
   "cell_type": "code",
   "execution_count": 27,
   "metadata": {
    "collapsed": true
   },
   "outputs": [],
   "source": [
    "phobias = phobias.replace(\"nan\", np.nan)\n",
    "phobias = phobias.replace(\"NaN\", np.nan)\n",
    "\n",
    "imp = Imputer(missing_values='NaN', strategy='most_frequent', axis=0)\n",
    "imp.fit(phobias)\n",
    "phobias_data = imp.transform(phobias)\n",
    "\n",
    "### The missing values are being  \n",
    "phobias = pd.DataFrame(data=phobias_data[:,:],\n",
    "                     index=[i for i in range(len(phobias_data))],\n",
    "                     columns=phobias.columns.tolist())"
   ]
  },
  {
   "cell_type": "markdown",
   "metadata": {},
   "source": [
    "### 4.3 Interests segment"
   ]
  },
  {
   "cell_type": "code",
   "execution_count": 28,
   "metadata": {},
   "outputs": [
    {
     "data": {
      "text/plain": [
       "history           2\n",
       "psychology        5\n",
       "politics          1\n",
       "math              3\n",
       "physics           3\n",
       "internet          4\n",
       "pc                6\n",
       "economy           5\n",
       "biology           6\n",
       "chemistry        10\n",
       "reading           6\n",
       "geography         9\n",
       "languages         5\n",
       "medicine          5\n",
       "law               1\n",
       "cars              4\n",
       "art               6\n",
       "religion          3\n",
       "outdoors          7\n",
       "dancing           3\n",
       "instruments       1\n",
       "writing           6\n",
       "activeSport      15\n",
       "passiveSport      4\n",
       "gardening         7\n",
       "celebrities       2\n",
       "shopping          2\n",
       "science           6\n",
       "theatre           8\n",
       "funs              4\n",
       "extremeSports     3\n",
       "pets              4\n",
       "dtype: int64"
      ]
     },
     "execution_count": 28,
     "metadata": {},
     "output_type": "execute_result"
    }
   ],
   "source": [
    "### count the amount of missing value in the data frame\n",
    "countMissing(interests)"
   ]
  },
  {
   "cell_type": "code",
   "execution_count": 29,
   "metadata": {
    "collapsed": true
   },
   "outputs": [],
   "source": [
    "interests = interests.replace(\"nan\", np.nan)\n",
    "interests = interests.replace(\"NaN\", np.nan)\n",
    "\n",
    "imp = Imputer(missing_values='NaN', strategy='most_frequent', axis=0)\n",
    "imp.fit(interests)\n",
    "interests_data = imp.transform(interests)\n",
    "\n",
    "### The missing values are being  \n",
    "interests = pd.DataFrame(data=interests_data[:,:],\n",
    "                     index=[i for i in range(len(interests_data))],\n",
    "                     columns=interests.columns.tolist())\n",
    "\n",
    "### Check if it indeed worked\n",
    "#interests.isnull().sum()"
   ]
  },
  {
   "cell_type": "markdown",
   "metadata": {},
   "source": [
    "### 4.4 SpendingHabits"
   ]
  },
  {
   "cell_type": "code",
   "execution_count": 30,
   "metadata": {},
   "outputs": [
    {
     "data": {
      "text/plain": [
       "finances           3\n",
       "shoppingCentres    2\n",
       "brandedClothing    2\n",
       "entertainment      3\n",
       "looks              3\n",
       "gadgets            0\n",
       "healthyFood        2\n",
       "dtype: int64"
      ]
     },
     "execution_count": 30,
     "metadata": {},
     "output_type": "execute_result"
    }
   ],
   "source": [
    "countMissing(spendingHabits)"
   ]
  },
  {
   "cell_type": "code",
   "execution_count": 31,
   "metadata": {},
   "outputs": [
    {
     "data": {
      "text/plain": [
       "finances           0\n",
       "shoppingCentres    0\n",
       "brandedClothing    0\n",
       "entertainment      0\n",
       "looks              0\n",
       "gadgets            0\n",
       "healthyFood        0\n",
       "dtype: int64"
      ]
     },
     "execution_count": 31,
     "metadata": {},
     "output_type": "execute_result"
    }
   ],
   "source": [
    "spendingHabits = spendingHabits.replace(\"nan\", np.nan)\n",
    "spendingHabits = spendingHabits.replace(\"NaN\", np.nan)\n",
    "\n",
    "imp = Imputer(missing_values='NaN', strategy='most_frequent', axis=0)\n",
    "imp.fit(spendingHabits)\n",
    "spendingHabits_data = imp.transform(spendingHabits)\n",
    "\n",
    "### The missing values are being\n",
    "spendingHabits = pd.DataFrame(data=spendingHabits_data[:,:],\n",
    "                     index=[i for i in range(len(spendingHabits_data))],\n",
    "                     columns=spendingHabits.columns.tolist())\n",
    "\n",
    "### Check if it indeed worked\n",
    "spendingHabits.isnull().sum()"
   ]
  },
  {
   "cell_type": "markdown",
   "metadata": {},
   "source": [
    "## Missing data in categorial data"
   ]
  },
  {
   "cell_type": "code",
   "execution_count": 32,
   "metadata": {},
   "outputs": [
    {
     "data": {
      "text/plain": [
       "Daily events                      7\n",
       "Prioritising workload             5\n",
       "Writing notes                     3\n",
       "Workaholism                       5\n",
       "Thinking ahead                    3\n",
       "Final judgement                   7\n",
       "Reliability                       4\n",
       "Keeping promises                  1\n",
       "Loss of interest                  4\n",
       "Friends versus money              6\n",
       "Funniness                         4\n",
       "Fake                              1\n",
       "Criminal damage                   7\n",
       "Decision making                   4\n",
       "Elections                         3\n",
       "Self-criticism                    5\n",
       "Judgment calls                    4\n",
       "Hypochondria                      4\n",
       "Empathy                           5\n",
       "Eating to survive                 0\n",
       "Giving                            6\n",
       "Compassion to animals             7\n",
       "Borrowed stuff                    2\n",
       "Loneliness                        1\n",
       "Cheating in school                4\n",
       "Health                            1\n",
       "Changing the past                 2\n",
       "God                               2\n",
       "Dreams                            0\n",
       "Charity                           3\n",
       "Number of friends                 0\n",
       "Punctuality                       0\n",
       "Lying                             2\n",
       "Waiting                           3\n",
       "New environment                   2\n",
       "Mood swings                       4\n",
       "Appearence and gestures           3\n",
       "Socializing                       5\n",
       "Achievements                      2\n",
       "Responding to a serious letter    6\n",
       "Children                          4\n",
       "Assertiveness                     2\n",
       "Getting angry                     4\n",
       "Knowing the right people          2\n",
       "Public speaking                   2\n",
       "Unpopularity                      3\n",
       "Life struggles                    3\n",
       "Happiness in life                 4\n",
       "Energy levels                     5\n",
       "Small - big dogs                  4\n",
       "Personality                       4\n",
       "Finding lost valuables            4\n",
       "Getting up                        5\n",
       "Interests or hobbies              3\n",
       "Parents' advice                   2\n",
       "Questionnaires or polls           4\n",
       "Internet usage                    0\n",
       "dtype: int64"
      ]
     },
     "execution_count": 32,
     "metadata": {},
     "output_type": "execute_result"
    }
   ],
   "source": [
    "countMissing(mindset)"
   ]
  },
  {
   "cell_type": "code",
   "execution_count": 46,
   "metadata": {},
   "outputs": [],
   "source": [
    "personal = personal.fillna(personal.mean(), inplace=True)  ### Find all the missing numerical values and replace with mean"
   ]
  },
  {
   "cell_type": "code",
   "execution_count": 35,
   "metadata": {},
   "outputs": [],
   "source": [
    "# merge all subframes to one large dataframe\n",
    "completeDataframe = music.join(movies.join(phobias.join(interests.join(personal.join(mindset.join(spendingHabits))))))"
   ]
  },
  {
   "cell_type": "code",
   "execution_count": 47,
   "metadata": {
    "collapsed": true
   },
   "outputs": [],
   "source": [
    "completeDataframe.head()\n",
    "\n",
    "## output the dataframe as new data \n",
    "completeDataframe.to_csv('processed_data.csv')"
   ]
  }
 ],
 "metadata": {
  "kernelspec": {
   "display_name": "Python 3",
   "language": "python",
   "name": "python3"
  },
  "language_info": {
   "codemirror_mode": {
    "name": "ipython",
    "version": 3
   },
   "file_extension": ".py",
   "mimetype": "text/x-python",
   "name": "python",
   "nbconvert_exporter": "python",
   "pygments_lexer": "ipython3",
   "version": "3.6.1"
  }
 },
 "nbformat": 4,
 "nbformat_minor": 2
}
