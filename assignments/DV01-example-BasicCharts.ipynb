{
 "cells": [
  {
   "cell_type": "markdown",
   "metadata": {},
   "source": [
    "# DV workshop 1 - Basic data manipulation and plotting\n",
    "\n",
    "This notebook shows you how to produce a simple plot using the Matplolib API, then how to load a dataset, manipulate the data and produce several basic charts using pandas. It is also an example of **reproducible research**.\n",
    "\n",
    "### Reproducible research\n",
    "\n",
    "Reproducible research means that someone else could, in principle, redo all your actions. Reproducible research is all about **transparancy**. It has nothing to do with correctness or reliability. Your research can be reproducible, yet completely false, unreliable and drawing the wrong conclusions. So why is it important then?\n",
    "\n",
    "Reproducible research is important because, even though you can never guarantee that your work is correct, you at least ensure that others have full insight into what you have done. Your lecturers can assess your work, and the company that wants to use your result can build further on your work.\n",
    "\n",
    "In this minor we advise you to use a quite specific workflow to create reproducible research. It consists of the following rules:\n",
    "\n",
    "* You shall use Jupyter Notebooks to combine your research report (documentation) with Python source code and its output in the form of data, tables and figures.\n",
    "* You shall use a version control system (Git is recommended) to track your changes and create a backed-up project folder and that will be the basis of your portfolio for this minor.\n",
    "* You shall include all data used in the data analysis in its rawest form (or link to it if it is too large to store). You can store processed data but do it separately and annotate it as such. All data sets should be accompanied with a document describing the data, a so-called codebook.\n",
    "* You will **NOT** change the raw data by hand (e.g. rounding numbers, deleting unwanted entries), but you will do this in code in a Notebook.\n",
    "* You will **NOT** use a GUI based program to edit or visualize data and include it as reproducible research. You can use such tools for data exploration or to produce more esthetic visualizations based on reproducible visualizations.\n",
    "* You can save and use intermediate results in your Notebooks, but there should be a separate Notebook to produce those results.\n",
    "\n",
    "These rules are based on: Reproducible Research Checklist by Robert Peng from the Reproducible Research MOOC on Coursera. (Last checked September 1, 2017) [https://github.com/rdpeng/courses/blob/master/05_ReproducibleResearch/lectures/Checklist.pdf]\n"
   ]
  },
  {
   "cell_type": "markdown",
   "metadata": {},
   "source": [
    "## 1. Matplotlib\n",
    "\n",
    "First, we import the required libraries, using standard conventions. We first import **numpy** for all our mathematical needs, then the **matplotlib** as plotting library and **pyplot** which gives an easy API to create plots with matplotlib."
   ]
  },
  {
   "cell_type": "code",
   "execution_count": null,
   "metadata": {
    "collapsed": true
   },
   "outputs": [],
   "source": [
    "import numpy as np\n",
    "import matplotlib as mpl\n",
    "from matplotlib import pyplot as plt\n",
    "\n",
    "# we need the following line to indicate that the plots should be shown inline with the Jupyter notebook.\n",
    "%matplotlib inline"
   ]
  },
  {
   "cell_type": "markdown",
   "metadata": {},
   "source": [
    "We will first create a simple plot of a mathematical function. We first create a numpy array of x-values. Then for each x-value we create the y-value, i.e. the function value. Plotting this function is as easy as giving it the x and y values."
   ]
  },
  {
   "cell_type": "code",
   "execution_count": null,
   "metadata": {},
   "outputs": [],
   "source": [
    "X = np.linspace(-np.pi, np.pi, 100) # define a NumPy array with 100 points in the range -Pi to Pi\n",
    "Y = np.sin(X) # define the curve Y by the sine of X\n",
    "\n",
    "plt.plot(X,Y); # use matplotlib to plot the function"
   ]
  },
  {
   "cell_type": "markdown",
   "metadata": {},
   "source": [
    "While creating such plots is perfectly fine when you are exploring data, in your final notebook the plot is hard to understand for the reader. With matplotlib it is very easy to add labels, a title and a legend. You can also change the limits of the plot, the style of the lines and much more.\n",
    "\n",
    "The following could be seen as the bare minimum for a plot to be understood as part of reproducible research."
   ]
  },
  {
   "cell_type": "code",
   "execution_count": null,
   "metadata": {},
   "outputs": [],
   "source": [
    "plt.figure()\n",
    "plt.plot(X, Y, 'r--', linewidth=2)\n",
    "plt.plot(X, Y/2, 'b-', linewidth=2)\n",
    "plt.xlabel('X axis')\n",
    "plt.ylabel('Y axis')\n",
    "plt.title('Plot Title')\n",
    "plt.xlim(-4, 4)\n",
    "plt.ylim(-1.2, 1.2)\n",
    "plt.legend(['red curve', 'blue curve'], loc='best');"
   ]
  },
  {
   "cell_type": "markdown",
   "metadata": {},
   "source": [
    "Go to the documentation pages of matplotlib [http://matplotlib.org/contents.html] to find all the possible options for a plot and also to see more tutorials, videos and book chapters to help you along the way.\n",
    "\n",
    "A few other nice tutorials:\n",
    "* [http://www.labri.fr/perso/nrougier/teaching/matplotlib/]\n"
   ]
  },
  {
   "cell_type": "markdown",
   "metadata": {},
   "source": [
    "## 2. Loading data CSV and Pandas\n",
    "\n",
    "While reproducible research recommends having your data somewhere where you know it will not change, it may not be feasible to put large datafiles in your portfolio. We will work with a database of information about cities around the world:\n",
    "\n",
    "https://www.maxmind.com/en/free-world-cities-database\n",
    "\n",
    "Working with data structures can be done in many ways in Python. There are the standard Python arrays, lists and tuples. You can also use the arrays in the numpy package which allow you to do heavy math operations efficiently. For data analysis Pandas is often used, because data can be put into so-called dataframes. Data-frames store data with column and row names and can easily be manipulated and plotted. You will learn more about Pandas in the Machine Learning workshops. A short intro can be found here:\n",
    "\n",
    "http://pandas.pydata.org/pandas-docs/stable/10min.html\n",
    "\n"
   ]
  },
  {
   "cell_type": "code",
   "execution_count": null,
   "metadata": {
    "collapsed": true
   },
   "outputs": [],
   "source": [
    "#\n",
    "import urllib.request as urllib, zipfile, os\n",
    "\n",
    "#\n",
    "url = 'http://download.maxmind.com/download/worldcities/'\n",
    "filename = 'worldcitiespop.txt.gz'\n",
    "datafolder = 'data/'\n",
    "\n",
    "#\n",
    "downloaded = urllib.urlopen(url + filename)\n",
    "buf = downloaded.read()\n",
    "\n",
    "try:\n",
    "    os.mkdir(datafolder)\n",
    "except FileExistsError:\n",
    "    pass\n",
    "\n",
    "with open(datafolder + filename, 'wb') as f:\n",
    "    f.write(buf)"
   ]
  },
  {
   "cell_type": "code",
   "execution_count": null,
   "metadata": {
    "collapsed": true
   },
   "outputs": [],
   "source": [
    "import pandas as pd\n",
    "import numpy as np\n",
    "from matplotlib import pyplot as plt\n",
    "%matplotlib inline \n",
    "cities = pd.read_csv(datafolder + filename, sep=',', low_memory=False, encoding = 'ISO-8859-1')"
   ]
  },
  {
   "cell_type": "markdown",
   "metadata": {},
   "source": [
    "## 3. Data inspection and manipulation\n",
    "\n",
    "We can take a peek at the data by checking out the top and bottom rows of data. Do you see any potential problem with this dataset?"
   ]
  },
  {
   "cell_type": "code",
   "execution_count": null,
   "metadata": {},
   "outputs": [],
   "source": [
    "cities.head()"
   ]
  },
  {
   "cell_type": "code",
   "execution_count": null,
   "metadata": {},
   "outputs": [],
   "source": [
    "cities.tail()"
   ]
  },
  {
   "cell_type": "markdown",
   "metadata": {},
   "source": [
    "Let's count the missing values."
   ]
  },
  {
   "cell_type": "code",
   "execution_count": null,
   "metadata": {},
   "outputs": [],
   "source": [
    "def count_missing(x):\n",
    "  return sum(x.isnull())\n",
    "print(\"Missing values per column:\")\n",
    "print(cities.apply(count_missing, axis=0))"
   ]
  },
  {
   "cell_type": "markdown",
   "metadata": {},
   "source": [
    "We do not really mind the 6 cities without a name or the 8 ones without a Region, but we'll filter them out anyway. Population data missing is a bigger problem, but we decide not to drop or fill, for now. \n",
    "See https://chrisalbon.com/python/pandas_missing_data.html for a short clear example of what can be done with pandas about missing data."
   ]
  },
  {
   "cell_type": "code",
   "execution_count": null,
   "metadata": {},
   "outputs": [],
   "source": [
    "# filter out cities with no name or no region\n",
    "cities.dropna(subset=['City'],inplace=True)\n",
    "cities.dropna(subset=['Region'],inplace=True)\n",
    "cities.apply(count_missing, axis=0)"
   ]
  },
  {
   "cell_type": "markdown",
   "metadata": {},
   "source": [
    "Let us check the biggest cities."
   ]
  },
  {
   "cell_type": "code",
   "execution_count": null,
   "metadata": {},
   "outputs": [],
   "source": [
    "\n",
    "cities.sort_values(by='Population', ascending=False).head()"
   ]
  },
  {
   "cell_type": "code",
   "execution_count": null,
   "metadata": {
    "collapsed": true
   },
   "outputs": [],
   "source": []
  },
  {
   "cell_type": "markdown",
   "metadata": {},
   "source": [
    "## 4. Scatter plots"
   ]
  },
  {
   "cell_type": "markdown",
   "metadata": {},
   "source": [
    "To get an idea of where in the world the cities in the dataset are located, we want to make a scatter plot of the position of all the cities in the dataset. No worry about drawing country borders, let's just plot the locations of the cities.\n",
    "We will use all the basic plot elements you need to understand this plot."
   ]
  },
  {
   "cell_type": "code",
   "execution_count": null,
   "metadata": {},
   "outputs": [],
   "source": [
    "import numpy as np\n",
    "from matplotlib import pyplot as plt\n",
    "%matplotlib inline\n",
    "\n",
    "plt.figure(figsize=[16,12])\n",
    "plt.title('Cities in the world')\n",
    "plt.xlabel('longitude')\n",
    "plt.ylabel('latitude')\n",
    "\n",
    "plt.scatter(cities.Longitude, cities.Latitude, marker='.',c='b', s=0.01, label='Cities of the world', alpha=0.2)"
   ]
  },
  {
   "cell_type": "markdown",
   "metadata": {},
   "source": [
    "Now we want to plot the cities in The Netherlands only. We will use a scatter plot again to plot the cities, but now vary the size of the marker and the color with the population of that city. A colorbar will show how the color of the marker relates to its population.\n",
    "The new limits make sure that only the mainland of The Netherlands is visible (and not the Dutch Antilles)."
   ]
  },
  {
   "cell_type": "code",
   "execution_count": null,
   "metadata": {},
   "outputs": [],
   "source": [
    "dutch_cities = cities[ cities['Country'] =='nl' ]\n",
    "plt.figure(figsize=[7,7]);\n",
    "\n",
    "plt.title('Cities of The Netherlands')\n",
    "plt.xlabel('longitude')\n",
    "plt.ylabel('latitude')\n",
    "plt.xlim(3.2,7.4)\n",
    "plt.ylim(50.7,53.6)\n",
    "sizes = 500\n",
    "\n",
    "\n",
    "points=plt.scatter(dutch_cities.Longitude,dutch_cities.Latitude,marker='.'\n",
    "                   , c=dutch_cities.Population\n",
    "                   , s=sizes**1\n",
    "                   , label='Position of Cities Based on Population Density'\n",
    "                   , alpha=0.5)\n",
    "plt.colorbar(label='population');\n"
   ]
  },
  {
   "cell_type": "markdown",
   "metadata": {},
   "source": [
    "\n",
    "\n",
    "## 5. Histograms"
   ]
  },
  {
   "cell_type": "markdown",
   "metadata": {},
   "source": [
    "So we could clearly see larger cities such as Amsterdam, Rotterdam and even Eindhoven. But we still do not really have a clear overview of how many big cities are there. To show a distribution we use a histogram plot."
   ]
  },
  {
   "cell_type": "code",
   "execution_count": null,
   "metadata": {},
   "outputs": [],
   "source": [
    "plt.figure(figsize=[20,8])\n",
    "ax = plt.subplot()\n",
    "\n",
    "eindhoven = dutch_cities[dutch_cities['City'] == 'eindhoven']\n",
    "amsterdam = dutch_cities[dutch_cities['City'] == 'amsterdam']\n",
    "plt.hist(np.asarray(dutch_cities.dropna().Population/1000),100,normed=1)\n",
    "\n",
    "ax.annotate(\"Eindhoven\",\n",
    "            xy=(eindhoven.Population.values/1000, .001), xycoords='data',\n",
    "            xytext=(eindhoven.Population.values/1000 - 20, .010), textcoords='data',\n",
    "            arrowprops=dict(arrowstyle=\"->\",\n",
    "                            connectionstyle=\"arc3\"),\n",
    "            )      \n",
    "ax.annotate(\"Amsterdam\",\n",
    "            xy=(amsterdam.Population.values/1000, .001), xycoords='data',\n",
    "            xytext=(amsterdam.Population.values/1000 - 20, .010), textcoords='data',\n",
    "            arrowprops=dict(arrowstyle=\"->\",\n",
    "                            connectionstyle=\"arc3\"),\n",
    "            )        "
   ]
  },
  {
   "cell_type": "markdown",
   "metadata": {},
   "source": [
    "Now we want to compare how the distribution of Dutch cities compares to that of the entire world.\n",
    "Subplots are used to show the dutch distribution (top plot) and the world distribution (bottom plot)."
   ]
  },
  {
   "cell_type": "code",
   "execution_count": null,
   "metadata": {},
   "outputs": [],
   "source": [
    "plt.figure(figsize=[20, 8]);\n",
    "plt.subplot(2,1,1);\n",
    "plt.hist(np.asarray(dutch_cities.dropna().Population/1000), bins=np.arange(0, 200, 1), normed=1);\n",
    "plt.title('Dutch cities');\n",
    "plt.xlabel('distribution');\n",
    "plt.ylabel('population');\n",
    "## add the subplot of the world cities below this Dutch one\n",
    "\n",
    "plt.subplot(2,1,2);\n",
    "plt.hist(np.asarray(cities.dropna().Population/1000), bins=np.arange(0, 200, 1), normed=1, color='r');\n",
    "plt.title('Cities around the world');\n",
    "plt.xlabel('distribution');\n",
    "plt.ylabel('population');"
   ]
  },
  {
   "cell_type": "code",
   "execution_count": null,
   "metadata": {
    "collapsed": true
   },
   "outputs": [],
   "source": []
  },
  {
   "cell_type": "code",
   "execution_count": null,
   "metadata": {
    "collapsed": true
   },
   "outputs": [],
   "source": []
  }
 ],
 "metadata": {
  "anaconda-cloud": {},
  "kernelspec": {
   "display_name": "Python 3",
   "language": "python",
   "name": "python3"
  }
 },
 "nbformat": 4,
 "nbformat_minor": 1
}
