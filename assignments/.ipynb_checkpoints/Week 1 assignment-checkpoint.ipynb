{
 "cells": [
  {
   "cell_type": "markdown",
   "metadata": {
    "collapsed": true
   },
   "source": [
    "## Week 1 - Assignment"
   ]
  },
  {
   "cell_type": "markdown",
   "metadata": {},
   "source": [
    "### Import required libraries"
   ]
  },
  {
   "cell_type": "code",
   "execution_count": 2,
   "metadata": {
    "collapsed": true
   },
   "outputs": [],
   "source": [
    "import pandas as pd\n",
    "import numpy as np\n",
    "from matplotlib import pyplot as plt\n",
    "%matplotlib inline \n",
    "\n",
    "# Import the csv file and seperate at , \n",
    "csvFile = \"DV01-GroupSurvey.csv\"\n",
    "dataFrame = pd.read_csv(csvFile, sep=',')"
   ]
  },
  {
   "cell_type": "code",
   "execution_count": 6,
   "metadata": {},
   "outputs": [
    {
     "data": {
      "text/html": [
       "<div>\n",
       "<style>\n",
       "    .dataframe thead tr:only-child th {\n",
       "        text-align: right;\n",
       "    }\n",
       "\n",
       "    .dataframe thead th {\n",
       "        text-align: left;\n",
       "    }\n",
       "\n",
       "    .dataframe tbody tr th {\n",
       "        vertical-align: top;\n",
       "    }\n",
       "</style>\n",
       "<table border=\"1\" class=\"dataframe\">\n",
       "  <thead>\n",
       "    <tr style=\"text-align: right;\">\n",
       "      <th></th>\n",
       "      <th>Timestamp</th>\n",
       "      <th>What is your main study profile?</th>\n",
       "      <th>What aspect of Data Visualization is most interesting to you?</th>\n",
       "      <th>How much effort do you intend to invest into this subject?</th>\n",
       "      <th>Your age (in years)</th>\n",
       "      <th>Your height (in cm)</th>\n",
       "      <th>Your starsign</th>\n",
       "      <th>Your continent</th>\n",
       "      <th>How many cousins do you have?</th>\n",
       "      <th>Do you like spicy food?</th>\n",
       "      <th>Unnamed: 10</th>\n",
       "    </tr>\n",
       "  </thead>\n",
       "  <tbody>\n",
       "    <tr>\n",
       "      <th>0</th>\n",
       "      <td>2017/09/01 12:19:46 PM GMT+2</td>\n",
       "      <td>Software Engineering</td>\n",
       "      <td>(web) programming</td>\n",
       "      <td>10</td>\n",
       "      <td>21</td>\n",
       "      <td>420.69</td>\n",
       "      <td>Leo</td>\n",
       "      <td>Europe</td>\n",
       "      <td>7</td>\n",
       "      <td>No</td>\n",
       "      <td>Option 1</td>\n",
       "    </tr>\n",
       "    <tr>\n",
       "      <th>1</th>\n",
       "      <td>2017/09/01 12:22:32 PM GMT+2</td>\n",
       "      <td>Software Engineering</td>\n",
       "      <td>exploring/analysing</td>\n",
       "      <td>8</td>\n",
       "      <td>19</td>\n",
       "      <td>178.00</td>\n",
       "      <td>Cancer</td>\n",
       "      <td>Europe</td>\n",
       "      <td>0</td>\n",
       "      <td>neutral</td>\n",
       "      <td>Option 1</td>\n",
       "    </tr>\n",
       "    <tr>\n",
       "      <th>2</th>\n",
       "      <td>2017/09/01 12:23:13 PM GMT+2</td>\n",
       "      <td>Technology</td>\n",
       "      <td>designing and storytelling</td>\n",
       "      <td>7</td>\n",
       "      <td>20</td>\n",
       "      <td>182.00</td>\n",
       "      <td>Scorpio</td>\n",
       "      <td>Europe</td>\n",
       "      <td>12</td>\n",
       "      <td>neutral</td>\n",
       "      <td>Option 1</td>\n",
       "    </tr>\n",
       "    <tr>\n",
       "      <th>3</th>\n",
       "      <td>2017/09/01 12:23:20 PM GMT+2</td>\n",
       "      <td>Software Engineering</td>\n",
       "      <td>(web) programming</td>\n",
       "      <td>8</td>\n",
       "      <td>21</td>\n",
       "      <td>197.00</td>\n",
       "      <td>Cancer</td>\n",
       "      <td>Europe</td>\n",
       "      <td>19</td>\n",
       "      <td>neutral</td>\n",
       "      <td>Option 1</td>\n",
       "    </tr>\n",
       "    <tr>\n",
       "      <th>4</th>\n",
       "      <td>2017/09/01 12:26:08 PM GMT+2</td>\n",
       "      <td>Mathematics</td>\n",
       "      <td>designing and storytelling</td>\n",
       "      <td>8</td>\n",
       "      <td>23</td>\n",
       "      <td>183.00</td>\n",
       "      <td>Aquarius</td>\n",
       "      <td>Europe</td>\n",
       "      <td>27</td>\n",
       "      <td>Yes</td>\n",
       "      <td>NaN</td>\n",
       "    </tr>\n",
       "  </tbody>\n",
       "</table>\n",
       "</div>"
      ],
      "text/plain": [
       "                      Timestamp What is your main study profile?  \\\n",
       "0  2017/09/01 12:19:46 PM GMT+2             Software Engineering   \n",
       "1  2017/09/01 12:22:32 PM GMT+2             Software Engineering   \n",
       "2  2017/09/01 12:23:13 PM GMT+2                       Technology   \n",
       "3  2017/09/01 12:23:20 PM GMT+2             Software Engineering   \n",
       "4  2017/09/01 12:26:08 PM GMT+2                      Mathematics   \n",
       "\n",
       "  What aspect of Data Visualization is most interesting to you?  \\\n",
       "0                                  (web) programming              \n",
       "1                                exploring/analysing              \n",
       "2                         designing and storytelling              \n",
       "3                                  (web) programming              \n",
       "4                         designing and storytelling              \n",
       "\n",
       "   How much effort do you intend to invest into this subject?   \\\n",
       "0                                                 10             \n",
       "1                                                  8             \n",
       "2                                                  7             \n",
       "3                                                  8             \n",
       "4                                                  8             \n",
       "\n",
       "   Your age (in years)  Your height (in cm) Your starsign Your continent  \\\n",
       "0                   21               420.69           Leo         Europe   \n",
       "1                   19               178.00        Cancer         Europe   \n",
       "2                   20               182.00       Scorpio         Europe   \n",
       "3                   21               197.00        Cancer         Europe   \n",
       "4                   23               183.00      Aquarius         Europe   \n",
       "\n",
       "  How many cousins do you have? Do you like spicy food? Unnamed: 10  \n",
       "0                             7                      No    Option 1  \n",
       "1                             0                 neutral    Option 1  \n",
       "2                            12                 neutral    Option 1  \n",
       "3                            19                 neutral    Option 1  \n",
       "4                            27                     Yes         NaN  "
      ]
     },
     "execution_count": 6,
     "metadata": {},
     "output_type": "execute_result"
    }
   ],
   "source": [
    "dataFrame.head()"
   ]
  },
  {
   "cell_type": "markdown",
   "metadata": {},
   "source": [
    "First thing that I noticed, is the fact that the unnamed column doesn't add something to the set.<br>\n",
    "I therefore decided to remove it from the dataframe."
   ]
  },
  {
   "cell_type": "code",
   "execution_count": null,
   "metadata": {
    "collapsed": true
   },
   "outputs": [],
   "source": []
  },
  {
   "cell_type": "markdown",
   "metadata": {},
   "source": [
    "### Look for missing values"
   ]
  }
 ],
 "metadata": {
  "kernelspec": {
   "display_name": "Python 3",
   "language": "python",
   "name": "python3"
  },
  "language_info": {
   "codemirror_mode": {
    "name": "ipython",
    "version": 3
   },
   "file_extension": ".py",
   "mimetype": "text/x-python",
   "name": "python",
   "nbconvert_exporter": "python",
   "pygments_lexer": "ipython3",
   "version": "3.6.1"
  }
 },
 "nbformat": 4,
 "nbformat_minor": 2
}
