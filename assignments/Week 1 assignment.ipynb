{
 "cells": [
  {
   "cell_type": "markdown",
   "metadata": {
    "collapsed": true
   },
   "source": [
    "## Week 1 - Assignment"
   ]
  },
  {
   "cell_type": "markdown",
   "metadata": {},
   "source": [
    "### Import required libraries"
   ]
  },
  {
   "cell_type": "code",
   "execution_count": null,
   "metadata": {
    "collapsed": true
   },
   "outputs": [],
   "source": [
    "import pandas as pd\n",
    "import numpy as np\n",
    "from matplotlib import pyplot as plt\n",
    "%matplotlib inline \n",
    "\n",
    "# Import the csv file and seperate at , \n",
    "csvFile = \"DV01-GroupSurvey.csv\"\n",
    "dataFrame = pd.read_csv(csvFile, sep=',')"
   ]
  },
  {
   "cell_type": "code",
   "execution_count": null,
   "metadata": {},
   "outputs": [
    {
     "data": {
      "text/html": [
       "<div>\n",
       "<style>\n",
       "    .dataframe thead tr:only-child th {\n",
       "        text-align: right;\n",
       "    }\n",
       "\n",
       "    .dataframe thead th {\n",
       "        text-align: left;\n",
       "    }\n",
       "\n",
       "    .dataframe tbody tr th {\n",
       "        vertical-align: top;\n",
       "    }\n",
       "</style>\n",
       "<table border=\"1\" class=\"dataframe\">\n",
       "  <thead>\n",
       "    <tr style=\"text-align: right;\">\n",
       "      <th></th>\n",
       "      <th>Timestamp</th>\n",
       "      <th>What is your main study profile?</th>\n",
       "      <th>What aspect of Data Visualization is most interesting to you?</th>\n",
       "      <th>How much effort do you intend to invest into this subject?</th>\n",
       "      <th>Your age (in years)</th>\n",
       "      <th>Your height (in cm)</th>\n",
       "      <th>Your starsign</th>\n",
       "      <th>Your continent</th>\n",
       "      <th>How many cousins do you have?</th>\n",
       "      <th>Do you like spicy food?</th>\n",
       "      <th>Unnamed: 10</th>\n",
       "    </tr>\n",
       "  </thead>\n",
       "  <tbody>\n",
       "    <tr>\n",
       "      <th>0</th>\n",
       "      <td>2017/09/01 12:19:46 PM GMT+2</td>\n",
       "      <td>Software Engineering</td>\n",
       "      <td>(web) programming</td>\n",
       "      <td>10</td>\n",
       "      <td>21</td>\n",
       "      <td>420.69</td>\n",
       "      <td>Leo</td>\n",
       "      <td>Europe</td>\n",
       "      <td>7</td>\n",
       "      <td>No</td>\n",
       "      <td>Option 1</td>\n",
       "    </tr>\n",
       "    <tr>\n",
       "      <th>1</th>\n",
       "      <td>2017/09/01 12:22:32 PM GMT+2</td>\n",
       "      <td>Software Engineering</td>\n",
       "      <td>exploring/analysing</td>\n",
       "      <td>8</td>\n",
       "      <td>19</td>\n",
       "      <td>178.00</td>\n",
       "      <td>Cancer</td>\n",
       "      <td>Europe</td>\n",
       "      <td>0</td>\n",
       "      <td>neutral</td>\n",
       "      <td>Option 1</td>\n",
       "    </tr>\n",
       "    <tr>\n",
       "      <th>2</th>\n",
       "      <td>2017/09/01 12:23:13 PM GMT+2</td>\n",
       "      <td>Technology</td>\n",
       "      <td>designing and storytelling</td>\n",
       "      <td>7</td>\n",
       "      <td>20</td>\n",
       "      <td>182.00</td>\n",
       "      <td>Scorpio</td>\n",
       "      <td>Europe</td>\n",
       "      <td>12</td>\n",
       "      <td>neutral</td>\n",
       "      <td>Option 1</td>\n",
       "    </tr>\n",
       "    <tr>\n",
       "      <th>3</th>\n",
       "      <td>2017/09/01 12:23:20 PM GMT+2</td>\n",
       "      <td>Software Engineering</td>\n",
       "      <td>(web) programming</td>\n",
       "      <td>8</td>\n",
       "      <td>21</td>\n",
       "      <td>197.00</td>\n",
       "      <td>Cancer</td>\n",
       "      <td>Europe</td>\n",
       "      <td>19</td>\n",
       "      <td>neutral</td>\n",
       "      <td>Option 1</td>\n",
       "    </tr>\n",
       "    <tr>\n",
       "      <th>4</th>\n",
       "      <td>2017/09/01 12:26:08 PM GMT+2</td>\n",
       "      <td>Mathematics</td>\n",
       "      <td>designing and storytelling</td>\n",
       "      <td>8</td>\n",
       "      <td>23</td>\n",
       "      <td>183.00</td>\n",
       "      <td>Aquarius</td>\n",
       "      <td>Europe</td>\n",
       "      <td>27</td>\n",
       "      <td>Yes</td>\n",
       "      <td>NaN</td>\n",
       "    </tr>\n",
       "  </tbody>\n",
       "</table>\n",
       "</div>"
      ],
      "text/plain": [
       "                      Timestamp What is your main study profile?  \\\n",
       "0  2017/09/01 12:19:46 PM GMT+2             Software Engineering   \n",
       "1  2017/09/01 12:22:32 PM GMT+2             Software Engineering   \n",
       "2  2017/09/01 12:23:13 PM GMT+2                       Technology   \n",
       "3  2017/09/01 12:23:20 PM GMT+2             Software Engineering   \n",
       "4  2017/09/01 12:26:08 PM GMT+2                      Mathematics   \n",
       "\n",
       "  What aspect of Data Visualization is most interesting to you?  \\\n",
       "0                                  (web) programming              \n",
       "1                                exploring/analysing              \n",
       "2                         designing and storytelling              \n",
       "3                                  (web) programming              \n",
       "4                         designing and storytelling              \n",
       "\n",
       "   How much effort do you intend to invest into this subject?   \\\n",
       "0                                                 10             \n",
       "1                                                  8             \n",
       "2                                                  7             \n",
       "3                                                  8             \n",
       "4                                                  8             \n",
       "\n",
       "   Your age (in years)  Your height (in cm) Your starsign Your continent  \\\n",
       "0                   21               420.69           Leo         Europe   \n",
       "1                   19               178.00        Cancer         Europe   \n",
       "2                   20               182.00       Scorpio         Europe   \n",
       "3                   21               197.00        Cancer         Europe   \n",
       "4                   23               183.00      Aquarius         Europe   \n",
       "\n",
       "  How many cousins do you have? Do you like spicy food? Unnamed: 10  \n",
       "0                             7                      No    Option 1  \n",
       "1                             0                 neutral    Option 1  \n",
       "2                            12                 neutral    Option 1  \n",
       "3                            19                 neutral    Option 1  \n",
       "4                            27                     Yes         NaN  "
      ]
     },
     "execution_count": 2,
     "metadata": {},
     "output_type": "execute_result"
    }
   ],
   "source": [
    "dataFrame.head()"
   ]
  },
  {
   "cell_type": "markdown",
   "metadata": {},
   "source": [
    "First thing that I noticed, is the fact that the unnamed column doesn't add something to the set.<br>\n",
    "I therefore decided to remove it from the dataframe. See the code below:"
   ]
  },
  {
   "cell_type": "code",
   "execution_count": null,
   "metadata": {
    "collapsed": true
   },
   "outputs": [],
   "source": [
    "dataFrame = dataFrame.drop('Unnamed: 10', axis=1)"
   ]
  },
  {
   "cell_type": "markdown",
   "metadata": {},
   "source": [
    "### Look for missing values"
   ]
  },
  {
   "cell_type": "code",
   "execution_count": null,
   "metadata": {},
   "outputs": [
    {
     "name": "stdout",
     "output_type": "stream",
     "text": [
      "Missing values per column:\n",
      "Timestamp                                                        0\n",
      "What is your main study profile?                                 0\n",
      "What aspect of Data Visualization is most interesting to you?    0\n",
      "How much effort do you intend to invest into this subject?       0\n",
      "Your age (in years)                                              0\n",
      "Your height (in cm)                                              0\n",
      "Your starsign                                                    0\n",
      "Your continent                                                   0\n",
      "How many cousins do you have?                                    0\n",
      "Do you like spicy food?                                          0\n",
      "dtype: int64\n"
     ]
    }
   ],
   "source": [
    "def count_missing(x):\n",
    "  return sum(x.isnull())\n",
    "print(\"Missing values per column:\")\n",
    "print(dataFrame.apply(count_missing, axis=0))\n",
    "\n",
    "##  There is no missing data"
   ]
  },
  {
   "cell_type": "markdown",
   "metadata": {},
   "source": [
    "## 1. Reproducible Research"
   ]
  },
  {
   "cell_type": "markdown",
   "metadata": {},
   "source": [
    "I noticed that there is something curious with the height column.<br>\n",
    "Not everyone answered in centimeters, some used a 1.78 notation. There is also one outlier that doesn't fit the rest."
   ]
  },
  {
   "cell_type": "code",
   "execution_count": 5,
   "metadata": {
    "collapsed": true
   },
   "outputs": [],
   "source": [
    "heightFrame = dataFrame['Your height (in cm)']\n",
    "heightCorrected = []\n",
    "\n",
    "## function that calculates mean \n",
    "def calculateMean(): \n",
    "    return np.array(heightFrame).mean()\n",
    "\n",
    "## check if someone entered a value below 100  \n",
    "for height in heightFrame:\n",
    "    if height < 100:\n",
    "        height = height * 100 ## if so, multiply by 100 to make it in cm\n",
    "    elif height > 220: ## when the person entered a value greater than 220 \n",
    "        height = calculateMean()\n",
    "    \n",
    "    heightCorrected.append(height)\n",
    "\n",
    "## add cleaned data to the correct column\n",
    "dataFrame['Your height (in cm)'] = heightCorrected    "
   ]
  },
  {
   "cell_type": "markdown",
   "metadata": {},
   "source": [
    "There is also something wrong with the cousins columns. Not everyone entered a numerical value.<br>\n",
    "I first need to filter out  the string value and replace it with something else."
   ]
  },
  {
   "cell_type": "code",
   "execution_count": null,
   "metadata": {
    "collapsed": true
   },
   "outputs": [],
   "source": [
    "cousinsFrame = dataFrame['How many cousins do you have?']\n",
    "cousinsCorrected = []\n",
    "\n",
    "## check if it is a number, returns true or false\n",
    "def is_number(s):\n",
    "    try:\n",
    "        float(s)\n",
    "        return True\n",
    "    except ValueError:\n",
    "        pass\n",
    " \n",
    "    try:\n",
    "        import unicodedata\n",
    "        unicodedata.numeric(s)\n",
    "        return True\n",
    "    except (TypeError, ValueError):\n",
    "        pass\n",
    " \n",
    "    return False\n",
    "\n",
    "## loop through the dataframe \n",
    "for cousin in cousinsFrame:\n",
    "    cs = pd.Series(is_number(cousin))\n",
    "    for c in cs:\n",
    "        if c == \"True\":\n",
    "            print(c)\n"
   ]
  },
  {
   "cell_type": "markdown",
   "metadata": {},
   "source": [
    "### Some experimenting with charts"
   ]
  },
  {
   "cell_type": "markdown",
   "metadata": {},
   "source": [
    "First I changed the name of the columns. They are too long to work with, so I changed them to a more\n",
    "appropriate name."
   ]
  },
  {
   "cell_type": "code",
   "execution_count": null,
   "metadata": {
    "collapsed": true
   },
   "outputs": [],
   "source": [
    "## Sort the values by age\n",
    "dataFrame.sort_values(by='Your age (in years)', ascending=False).head()"
   ]
  },
  {
   "cell_type": "code",
   "execution_count": null,
   "metadata": {
    "collapsed": true
   },
   "outputs": [],
   "source": [
    "## change name of columns\n",
    "dataFrame.columns = ['time', 'profile', 'aspect', 'effort', 'age', 'height', 'starsign', 'continent', 'cousins', 'food']\n",
    "\n",
    "europe_answers = dataFrame[dataFrame['continent'] =='Europe' ]\n",
    "\n",
    "web = europe_answers[europe_answers['aspect'] == '(web) programming']\n",
    "profile = europe_answers[europe_answers['profile'] == 'Software Engineering']\n",
    "age = profile.age\n",
    "\n",
    "#europe_answers\n",
    "profile\n",
    "#plt.hist(np.asarray(europe_answers)\n",
    "\n",
    "fig = plt.figure()\n",
    "plt.scatter(dataFrame['age'], dataFrame['height'], c=dataFrame['cousins'])\n",
    "plt.xlabel('Age')\n",
    "plt.ylabel('Height [cm]')\n",
    "plt.colorbar(label='Number of cousins');\n"
   ]
  },
  {
   "cell_type": "code",
   "execution_count": null,
   "metadata": {
    "collapsed": true
   },
   "outputs": [],
   "source": [
    "import numpy as np\n",
    "from matplotlib import pyplot as plt\n",
    "from pandas.tools.plotting import parallel_coordinates\n",
    "from pandas.tools.plotting import scatter_matrix\n",
    "%matplotlib inline \n",
    "\n",
    "scatter_matrix(dataFrame, alpha=0.5, figsize=(12, 12), diagonal='kde');"
   ]
  },
  {
   "cell_type": "code",
   "execution_count": null,
   "metadata": {
    "collapsed": true
   },
   "outputs": [],
   "source": [
    "## An age boxplot\n",
    "\n",
    "europe_answers = dataFrame[dataFrame['continent'] =='Europe' ]\n",
    "\n",
    "web = europe_answers[europe_answers['aspect'] == '(web) programming']\n",
    "profile = europe_answers[europe_answers['profile'] == 'Software Engineering']\n",
    "softwareAge = profile.age\n",
    "\n",
    "softwareAge.plot.box()"
   ]
  },
  {
   "cell_type": "markdown",
   "metadata": {},
   "source": [
    "### Question 1: Are older students taller?"
   ]
  },
  {
   "cell_type": "code",
   "execution_count": null,
   "metadata": {
    "collapsed": true
   },
   "outputs": [],
   "source": [
    "## create different dataframes, one for age and one for height\n",
    "\n",
    "age = dataFrame['age']\n",
    "height = dataFrame['height']\n",
    "\n",
    "## I tried a simple line plot\n",
    "plt.plot(age, height, label=\"a\")\n"
   ]
  },
  {
   "cell_type": "markdown",
   "metadata": {},
   "source": [
    "### Make a histogram for every quantitative attribute. What are these charts saying?"
   ]
  },
  {
   "cell_type": "code",
   "execution_count": null,
   "metadata": {
    "collapsed": true
   },
   "outputs": [],
   "source": [
    "plt.figure(figsize=[20,8])\n",
    "ax = plt.subplot()\n",
    "\n",
    "europe_answers = dataFrame[dataFrame['continent'] =='Europe' ]\n",
    "web = europe_answers[europe_answers['aspect'] == '(web) programming']\n",
    "profile = europe_answers[europe_answers['profile'] == 'Software Engineering']\n",
    "\n",
    "# Define a function for a histogram\n",
    "def histogram(data, x_label, y_label, title):\n",
    "    _, ax = plt.subplots()\n",
    "    ax.hist(data, color = \"red\")\n",
    "    ax.set_ylabel(y_label)\n",
    "    ax.set_xlabel(x_label)\n",
    "    ax.set_title(title)\n",
    "\n",
    "# Call the function to create plot\n",
    "histogram(data = dataFrame['cousins']\n",
    "           , x_label = 'Cousins'\n",
    "           , y_label = 'Frequency'\n",
    "           , title = 'Distribution of Cousins')\n"
   ]
  }
 ],
 "metadata": {
  "kernelspec": {
   "display_name": "Python 3",
   "language": "python",
   "name": "python3"
  },
  "language_info": {
   "codemirror_mode": {
    "name": "ipython",
    "version": 3
   },
   "file_extension": ".py",
   "mimetype": "text/x-python",
   "name": "python",
   "nbconvert_exporter": "python",
   "pygments_lexer": "ipython3",
   "version": "3.6.1"
  }
 },
 "nbformat": 4,
 "nbformat_minor": 2
}
