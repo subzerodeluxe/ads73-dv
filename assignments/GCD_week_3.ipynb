{
 "cells": [
  {
   "cell_type": "markdown",
   "metadata": {},
   "source": [
    "## Import dependencies and setup the csv file \n",
    "Import itertools using 'pip install itertools'\n",
    "<br>Import re using 'pip install regex' "
   ]
  },
  {
   "cell_type": "code",
   "execution_count": 1,
   "metadata": {
    "collapsed": true
   },
   "outputs": [],
   "source": [
    "import pandas as pd\n",
    "import numpy as np\n",
    "from more_itertools import flatten\n",
    "import itertools\n",
    "import re\n",
    "import matplotlib.pyplot as plt\n",
    "\n",
    "# Import the csv file and seperate at ; \n",
    "csvFile = \"GCD-Week-3-GRAIN---Land-grab-deals---Jan-2012.csv\"\n",
    "dataFrame = pd.read_csv(csvFile, sep=';')"
   ]
  },
  {
   "cell_type": "markdown",
   "metadata": {},
   "source": [
    "## Inspect data\n",
    "Show some more detailed information about the data, experiment with plot library"
   ]
  },
  {
   "cell_type": "code",
   "execution_count": 2,
   "metadata": {},
   "outputs": [
    {
     "name": "stdout",
     "output_type": "stream",
     "text": [
      "['UAE', 'China', 'Italy', 'Portugal', 'Portugal', 'Portugal', 'UK', 'Brazil', 'China', 'Denmark', 'France', 'France', 'France', 'France', 'Germany', 'Japan', 'Saudi Arabia', 'Saudi Arabia', 'Singapore ', 'South Korea', 'US', 'Singapore ', 'Brazil', 'Canada', 'Canada', 'China', 'China', 'China', 'China', 'China', 'Denmark', 'Germany', 'Mauritius', 'Qatar', 'Singapore ', 'South Korea', 'Sweden', 'Thailand', 'UK', 'UK', 'UK', 'US', 'US', 'US ', 'China', 'China', 'Italy', 'Libya', 'Nigeria', 'Argentina', 'China', 'Argentina', 'Argentina', 'Argentina', 'Canada', 'China', 'China', 'France', 'France', 'Germany', 'India', 'Japan', 'New Zealand ', 'Portugal', 'South Korea', 'UK ', 'US', 'US', 'US', 'US', 'US', 'US', 'US', 'US', 'Bulgaria', 'China', 'UK ', 'US', 'US', 'Bangladesh', 'Australia', 'Cayman Islands', 'India', 'India', 'South Korea', 'South Korea', 'South Korea', 'Thailand', 'China', 'France', 'India', 'US', 'Singapore', 'Argentina', 'Brazil', 'China', 'Israel', 'Spain', 'US', 'Italy', 'Italy', 'Malaysia', 'South Africa', 'Singapore', 'Canada', 'China', 'Germany', 'Indonesia', 'Saudi Arabia', 'Saudi Arabia', 'Saudi Arabia', 'UAE', 'UAE', 'China', 'Djibouti', 'Dutch', 'Egypt', 'Germany', 'India', 'India', 'India', 'India', 'India', 'India', 'India', 'India', 'India', 'India', 'India', 'India', 'India ', 'Italy', 'Saudi Arabia', 'US', 'Belgium', 'Singapore', 'Spain', 'Brazil', 'France', 'Germany', 'Germany', 'Qatar', 'Singapore', 'Spain', 'UAE', 'UK', 'UK', 'UK', 'US', 'UK', 'Germany', 'China', 'India', 'Singapore', 'Singapore', 'South Korea', 'South Korea', 'UAE', 'US', 'China', 'Mauritius', 'US', 'China', 'Kuwait', 'Mongolia', 'Thailand', 'Thailand', 'Thailand', \"Côte d'Ivoire\", 'Libya', 'Malaysia', 'Singapore', 'US', 'UK', 'Germany', 'Germany', 'Ireland', 'China', 'India', 'India', 'UK', 'Djibouti', 'UK', 'Canada', 'China', 'France', 'Libya', 'Libya', 'Saudi Arabia', 'UK', 'UK', 'UK', 'US', 'US', 'West Africa', 'Saudi Arabia', 'Saudi Arabia', 'Singapore', 'UAE', 'Brazil', 'Brazil', 'China', 'France', 'India', 'Italy', 'Italy', 'Libya', 'Mauritius', 'Portugal', 'Portugal', 'Portugal', 'Singapore', 'South Africa', 'South Africa', 'South Africa', 'South Africa', 'Sweden', 'UK', 'UK', 'UK', 'UK', 'UK', 'US', 'Portugal', 'UAE', 'UK', 'UK', 'Australia', 'China', 'Denmark', 'Germany', 'Germany', 'Italy', 'Switzerland', 'Switzerland', 'UK', 'US', 'Saudi Arabia', 'China', 'Italy', 'Saudi Arabia', 'UK', 'US', 'Vietnam', 'Vietnam', 'China', 'Saudi Arabia', 'UAE', 'UAE', 'UAE', 'Malaysia', 'Malaysia', 'Malaysia', 'South Korea', 'Argentina', 'Argentina', 'Bermuda', 'France', 'South Korea', 'US', 'Bahrain', 'Brunei', 'China', 'Japan', 'Kuwait', 'Malaysia', 'Oman', 'Qatar', 'Saudi Arabia', 'South Korea', 'South Korea', 'South Korea', 'UK', 'US', 'Ireland', 'Ireland', 'Netherlands', 'Sweden', 'Denmark', 'Germany', 'Germany', 'Italy', 'Netherlands', 'Portugal', 'UAE', 'China', 'Czech Republic', 'France', 'France', 'Gemany', 'Germany', 'Germany', 'Kazakhstan', 'North Korea', 'Saudi Arabia', 'Singapore', 'South Korea', 'Sweden', 'Sweden', 'Sweden', 'UK', 'UK', 'US', 'US', 'Denmark', 'Lithuania', 'China', 'China', 'France', 'India', 'Italy', 'Nigeria', 'Saudi Arabia', 'Ireland', 'China', 'China', 'France', 'Germany', 'India', 'Iran', 'Malaysia', 'Mauritius', 'Portugal', 'Switzerland', 'UK', 'UK', 'UK', 'UK', 'UK', 'Vietnam', 'Germany', 'UK', 'Canada', 'Egypt', 'Egypt', 'Mauritius', 'Saudi Arabia', 'Sudan', 'US', 'US', 'UAE', 'Brazil', 'China', 'Djibouti', 'Egypt', 'Egypt', 'Egypt', 'Philippines', 'Qatar', 'Saudi Arabia', 'Saudi Arabia', 'Saudi Arabia', 'South Korea', 'UAE', 'UAE', 'UAE', 'UAE', 'UAE', 'UAE', 'South Africa', 'UK', 'China', 'Bangladesh', 'Belgium', 'China', 'Germany', 'India', 'India', 'India', 'Singapore', 'Singapore', 'South Korea', 'Sweden', 'UAE', 'UK', 'US', 'US', 'US', 'US', 'Bangladesh', 'China', 'China', 'Egypt', 'Iceland', 'India', 'Singapore', 'Denmark', 'France', 'Germany', 'Germany', 'Russia', 'Sweden', 'UK ', 'US', 'US', 'US', 'US', 'Argentina', 'Argentina', 'Argentina', 'Denmark', 'France', 'France', 'Singapore', 'US', 'Canada', 'Denmark', 'Ireland', 'Germany', 'India', 'Saudi Arabia', 'Singapore', 'South Africa', 'UK', 'UK', 'UK']\n"
     ]
    },
    {
     "data": {
      "image/png": "[encoded data removed]",
      "text/plain": [
       "<matplotlib.figure.Figure at 0x2ff5680748>"
      ]
     },
     "metadata": {},
     "output_type": "display_data"
    }
   ],
   "source": [
    "base = list(dataFrame['Base'])\n",
    "list(dataFrame)\n",
    "print(base)\n",
    "\n",
    "# show Hectares column as plot \n",
    "plt.plot(dataFrame['Hectares'])\n",
    "plt.ylabel('hectares')\n",
    "plt.show()"
   ]
  },
  {
   "cell_type": "markdown",
   "metadata": {},
   "source": [
    "## Cleaning data: remove whitespaces and NaN"
   ]
  },
  {
   "cell_type": "code",
   "execution_count": 3,
   "metadata": {
    "collapsed": true
   },
   "outputs": [],
   "source": [
    "# Remove whitespaces\n",
    "dataFrame = dataFrame.replace({'\\s*$|\\n': ''}, regex = True)\n",
    "\n",
    "# Remove NaN's\n",
    "dataFrame = dataFrame.fillna('')\n",
    "\n",
    "## output new version that is readable in Excel\n",
    "dataFrame.to_csv('cleaned-version.csv')"
   ]
  },
  {
   "cell_type": "markdown",
   "metadata": {},
   "source": [
    "## Fix country inconsistency\n",
    "- West Africa is not a country, fix to Nigeria\n",
    "- Replace Dutch with the Netherlands\n",
    "- Gemany is not a country"
   ]
  },
  {
   "cell_type": "code",
   "execution_count": 4,
   "metadata": {
    "collapsed": true
   },
   "outputs": [],
   "source": [
    "## replace West Africa with Nigeria \n",
    "dataFrame = dataFrame.replace({'West Africa': 'Nigeria'})\n",
    "\n",
    "## replace Dutch with the Netherlands\n",
    "dataFrame = dataFrame.replace({'Dutch': \"Netherlands\"})\n",
    "\n",
    "## replace Gemany with Germany\n",
    "dataFrame = dataFrame.replace({'Gemany': \"Germany\"})\n",
    "\n",
    "##dataFrame.to_csv('updated-country.csv')"
   ]
  },
  {
   "cell_type": "markdown",
   "metadata": {},
   "source": [
    "## Turn 'millions' (string) into numbers, fix other issues in Project investment column"
   ]
  },
  {
   "cell_type": "code",
   "execution_count": 5,
   "metadata": {
    "collapsed": true,
    "scrolled": true
   },
   "outputs": [],
   "source": [
    "## get the correct column and create empty lists \n",
    "projectInvestment = dataFrame['Projected investment']\n",
    "projectInvestmentNew = []\n",
    "projectInvestmentCorrected = []\n",
    "\n",
    "## function that calculates mean\n",
    "def calculateMean(item):\n",
    "    return np.array(item.strip().split('-')).astype(float).mean()\n",
    "\n",
    "## replace million with ''. Also replace billion with 000 \n",
    "for item in projectInvestment:\n",
    "    if item != '':\n",
    "        item = re.split(' \\(|/', item)[0] ## clean the data\n",
    "        item = item.replace('US$', '').replace(' million', '').replace(' billion', '000')\n",
    "        if '-' in item:  ## if there are two values divided by a '-', calculate the mean \n",
    "             item = calculateMean(item)\n",
    "    \n",
    "    projectInvestmentCorrected.append(item)\n",
    "    \n",
    "#print(projectInvestmentCorrected)\n",
    "\n",
    "## add cleaned data to the correct column\n",
    "dataFrame['Projected investment'] = projectInvestmentCorrected\n",
    "\n",
    "## output data to \n",
    "dataFrame.to_csv('cleaned-version-millions.csv')"
   ]
  },
  {
   "cell_type": "markdown",
   "metadata": {},
   "source": [
    "## Fix products and put them in categories"
   ]
  },
  {
   "cell_type": "code",
   "execution_count": 6,
   "metadata": {},
   "outputs": [
    {
     "data": {
      "text/html": [
       "<div>\n",
       "<style>\n",
       "    .dataframe thead tr:only-child th {\n",
       "        text-align: right;\n",
       "    }\n",
       "\n",
       "    .dataframe thead th {\n",
       "        text-align: left;\n",
       "    }\n",
       "\n",
       "    .dataframe tbody tr th {\n",
       "        vertical-align: top;\n",
       "    }\n",
       "</style>\n",
       "<table border=\"1\" class=\"dataframe\">\n",
       "  <thead>\n",
       "    <tr style=\"text-align: right;\">\n",
       "      <th></th>\n",
       "      <th>Landgrabbed</th>\n",
       "      <th>Landgrabber</th>\n",
       "      <th>Base</th>\n",
       "      <th>Sector</th>\n",
       "      <th>Hectares</th>\n",
       "      <th>Production</th>\n",
       "      <th>Projected investment</th>\n",
       "      <th>Status of deal</th>\n",
       "      <th>Summary</th>\n",
       "    </tr>\n",
       "  </thead>\n",
       "  <tbody>\n",
       "    <tr>\n",
       "      <th>0</th>\n",
       "      <td>Algeria</td>\n",
       "      <td>Al Qudra</td>\n",
       "      <td>UAE</td>\n",
       "      <td>Finance, real estate</td>\n",
       "      <td>31000</td>\n",
       "      <td>[milk, olive oil, potatoes]</td>\n",
       "      <td></td>\n",
       "      <td>Done</td>\n",
       "      <td>Al Qudra Holding is a joint-stock company esta...</td>\n",
       "    </tr>\n",
       "    <tr>\n",
       "      <th>1</th>\n",
       "      <td>Angola</td>\n",
       "      <td>CAMC Engineering Co. Ltd</td>\n",
       "      <td>China</td>\n",
       "      <td>Construction</td>\n",
       "      <td>1500</td>\n",
       "      <td>[rice]</td>\n",
       "      <td>77</td>\n",
       "      <td>Done</td>\n",
       "      <td>CAMCE is a subsidiary of the China National Ma...</td>\n",
       "    </tr>\n",
       "    <tr>\n",
       "      <th>2</th>\n",
       "      <td>Angola</td>\n",
       "      <td>ENI</td>\n",
       "      <td>Italy</td>\n",
       "      <td>Energy</td>\n",
       "      <td>12000</td>\n",
       "      <td>[oil palm]</td>\n",
       "      <td></td>\n",
       "      <td>In process</td>\n",
       "      <td>The project is a joint venture between Sonango...</td>\n",
       "    </tr>\n",
       "    <tr>\n",
       "      <th>3</th>\n",
       "      <td>Angola</td>\n",
       "      <td>AfriAgro</td>\n",
       "      <td>Portugal</td>\n",
       "      <td>Finance, real estate</td>\n",
       "      <td>5000</td>\n",
       "      <td>[oil palm]</td>\n",
       "      <td>32.5</td>\n",
       "      <td>Done</td>\n",
       "      <td>AfriAgro is a subsidiary of the Portugal-based...</td>\n",
       "    </tr>\n",
       "    <tr>\n",
       "      <th>4</th>\n",
       "      <td>Angola</td>\n",
       "      <td>Eurico Ferreira</td>\n",
       "      <td>Portugal</td>\n",
       "      <td>Energy, telecommunications</td>\n",
       "      <td>30000</td>\n",
       "      <td>[sugar cane]</td>\n",
       "      <td>200</td>\n",
       "      <td>Done</td>\n",
       "      <td>In 2008, Portuguese conglomerate Eurico Ferrei...</td>\n",
       "    </tr>\n",
       "  </tbody>\n",
       "</table>\n",
       "</div>"
      ],
      "text/plain": [
       "  Landgrabbed               Landgrabber      Base                      Sector  \\\n",
       "0     Algeria                  Al Qudra       UAE        Finance, real estate   \n",
       "1      Angola  CAMC Engineering Co. Ltd     China                Construction   \n",
       "2      Angola                       ENI     Italy                      Energy   \n",
       "3      Angola                  AfriAgro  Portugal        Finance, real estate   \n",
       "4      Angola           Eurico Ferreira  Portugal  Energy, telecommunications   \n",
       "\n",
       "  Hectares                   Production Projected investment Status of deal  \\\n",
       "0    31000  [milk, olive oil, potatoes]                                Done   \n",
       "1     1500                       [rice]                   77           Done   \n",
       "2    12000                   [oil palm]                          In process   \n",
       "3     5000                   [oil palm]                 32.5           Done   \n",
       "4    30000                 [sugar cane]                  200           Done   \n",
       "\n",
       "                                             Summary  \n",
       "0  Al Qudra Holding is a joint-stock company esta...  \n",
       "1  CAMCE is a subsidiary of the China National Ma...  \n",
       "2  The project is a joint venture between Sonango...  \n",
       "3  AfriAgro is a subsidiary of the Portugal-based...  \n",
       "4  In 2008, Portuguese conglomerate Eurico Ferrei...  "
      ]
     },
     "execution_count": 6,
     "metadata": {},
     "output_type": "execute_result"
    }
   ],
   "source": [
    "## split products and put them in a dictionary, also replace spelling mistakes\n",
    "correctProducts = {'banaba': 'banana', 'bananas': 'banana', 'biofuls': 'biofuel', 'cereal crops': 'cereal', 'cropsspeculation': 'crops', 'food crops': 'crops', 'rape; other crops': 'crops', 'dairy farm': 'dairy', 'dairy farms': 'dairy', 'forstry': 'forest', 'grains': 'grain', 'grain farms': 'grain', 'oil seeds': 'oilseeds', 'oilseed': 'oilseeds', 'oilseed rape': 'oilseeds', 'oil palm': 'palm oil', 'rape; other crops': 'rapeseed', 'rape': 'rapeseed', 'rice seeds': 'rice', 'soybean': 'soybeans', 'sugar': 'sugar cane', 'sugar beet': 'sugar cane', 'sunflowers': 'sunflower', 'sunflower seed': 'sunflower', 'sunflowers; produce & sell hybrid seeds': 'sunflower', 'vegetable oil': 'vegetables'}\n",
    "\n",
    "products = dataFrame['Production']\n",
    "updatedProducts = []\n",
    "#print(products)\n",
    "\n",
    "def replaceProducts(arr):\n",
    "    return list(map(lambda item: correctProducts.get(item, item).strip(), arr))\n",
    "\n",
    "## loop through products and use lookup (dictionary) to get the correct value by key \n",
    "for product in products:\n",
    "    stripList = [product.strip().lower().split('(')[0] for product in re.split(',|and', product)]\n",
    "    replaceProducts(stripList)\n",
    "    updatedProducts.append(stripList)\n",
    "\n",
    "dataFrame['Production'] = updatedProducts\n",
    "\n",
    "## output data to \n",
    "dataFrame.to_csv('final-version-assignment-3.csv')\n",
    "\n",
    "dataFrame.head()"
   ]
  }
 ],
 "metadata": {
  "kernelspec": {
   "display_name": "Python 3",
   "language": "python",
   "name": "python3"
  },
  "language_info": {
   "codemirror_mode": {
    "name": "ipython",
    "version": 3
   },
   "file_extension": ".py",
   "mimetype": "text/x-python",
   "name": "python",
   "nbconvert_exporter": "python",
   "pygments_lexer": "ipython3",
   "version": "3.6.1"
  }
 },
 "nbformat": 4,
 "nbformat_minor": 2
}
