{
 "cells": [
  {
   "cell_type": "markdown",
   "metadata": {},
   "source": [
    "## Step 2 - Explore the Data"
   ]
  },
  {
   "cell_type": "code",
   "execution_count": 4,
   "metadata": {
    "collapsed": true
   },
   "outputs": [],
   "source": [
    "import numpy as np\n",
    "import pandas as pd\n",
    "\n",
    "from pandas import Series, DataFrame\n",
    "from sklearn.preprocessing import Imputer "
   ]
  },
  {
   "cell_type": "markdown",
   "metadata": {},
   "source": [
    "## 1. Explore dataset in Excel\n",
    "I used Microsoft Excel to quickly scan the dataset. <br> Not only did I want to get a sense of the quality of the data, but I also just wanted to get an overview of the features it contains. A few things came to mind after exploring:\n",
    "\n",
    "- There could be some missing values \n",
    "- Some values contain text (string) while other have a numeric (integer) value\n",
    "- Could be a good idea to segment the data per category\n"
   ]
  },
  {
   "cell_type": "markdown",
   "metadata": {},
   "source": [
    "## 2. Import the dataset\n",
    "\n",
    "Since the dateset already is a csv file, there was no need to do some additional transformations. <br>\n",
    "I therefore simply imported the data into a dataFrame using the statements below: "
   ]
  },
  {
   "cell_type": "code",
   "execution_count": 5,
   "metadata": {},
   "outputs": [
    {
     "data": {
      "text/html": [
       "<div>\n",
       "<style>\n",
       "    .dataframe thead tr:only-child th {\n",
       "        text-align: right;\n",
       "    }\n",
       "\n",
       "    .dataframe thead th {\n",
       "        text-align: left;\n",
       "    }\n",
       "\n",
       "    .dataframe tbody tr th {\n",
       "        vertical-align: top;\n",
       "    }\n",
       "</style>\n",
       "<table border=\"1\" class=\"dataframe\">\n",
       "  <thead>\n",
       "    <tr style=\"text-align: right;\">\n",
       "      <th></th>\n",
       "      <th>Music</th>\n",
       "      <th>Slow songs or fast songs</th>\n",
       "      <th>Dance</th>\n",
       "      <th>Folk</th>\n",
       "      <th>Country</th>\n",
       "      <th>Classical music</th>\n",
       "      <th>Musical</th>\n",
       "      <th>Pop</th>\n",
       "      <th>Rock</th>\n",
       "      <th>Metal or Hardrock</th>\n",
       "      <th>...</th>\n",
       "      <th>Age</th>\n",
       "      <th>Height</th>\n",
       "      <th>Weight</th>\n",
       "      <th>Number of siblings</th>\n",
       "      <th>Gender</th>\n",
       "      <th>Left - right handed</th>\n",
       "      <th>Education</th>\n",
       "      <th>Only child</th>\n",
       "      <th>Village - town</th>\n",
       "      <th>House - block of flats</th>\n",
       "    </tr>\n",
       "  </thead>\n",
       "  <tbody>\n",
       "    <tr>\n",
       "      <th>0</th>\n",
       "      <td>5.0</td>\n",
       "      <td>3.0</td>\n",
       "      <td>2.0</td>\n",
       "      <td>1.0</td>\n",
       "      <td>2.0</td>\n",
       "      <td>2.0</td>\n",
       "      <td>1.0</td>\n",
       "      <td>5.0</td>\n",
       "      <td>5.0</td>\n",
       "      <td>1.0</td>\n",
       "      <td>...</td>\n",
       "      <td>20.0</td>\n",
       "      <td>163.0</td>\n",
       "      <td>48.0</td>\n",
       "      <td>1.0</td>\n",
       "      <td>female</td>\n",
       "      <td>right handed</td>\n",
       "      <td>college/bachelor degree</td>\n",
       "      <td>no</td>\n",
       "      <td>village</td>\n",
       "      <td>block of flats</td>\n",
       "    </tr>\n",
       "    <tr>\n",
       "      <th>1</th>\n",
       "      <td>4.0</td>\n",
       "      <td>4.0</td>\n",
       "      <td>2.0</td>\n",
       "      <td>1.0</td>\n",
       "      <td>1.0</td>\n",
       "      <td>1.0</td>\n",
       "      <td>2.0</td>\n",
       "      <td>3.0</td>\n",
       "      <td>5.0</td>\n",
       "      <td>4.0</td>\n",
       "      <td>...</td>\n",
       "      <td>19.0</td>\n",
       "      <td>163.0</td>\n",
       "      <td>58.0</td>\n",
       "      <td>2.0</td>\n",
       "      <td>female</td>\n",
       "      <td>right handed</td>\n",
       "      <td>college/bachelor degree</td>\n",
       "      <td>no</td>\n",
       "      <td>city</td>\n",
       "      <td>block of flats</td>\n",
       "    </tr>\n",
       "    <tr>\n",
       "      <th>2</th>\n",
       "      <td>5.0</td>\n",
       "      <td>5.0</td>\n",
       "      <td>2.0</td>\n",
       "      <td>2.0</td>\n",
       "      <td>3.0</td>\n",
       "      <td>4.0</td>\n",
       "      <td>5.0</td>\n",
       "      <td>3.0</td>\n",
       "      <td>5.0</td>\n",
       "      <td>3.0</td>\n",
       "      <td>...</td>\n",
       "      <td>20.0</td>\n",
       "      <td>176.0</td>\n",
       "      <td>67.0</td>\n",
       "      <td>2.0</td>\n",
       "      <td>female</td>\n",
       "      <td>right handed</td>\n",
       "      <td>secondary school</td>\n",
       "      <td>no</td>\n",
       "      <td>city</td>\n",
       "      <td>block of flats</td>\n",
       "    </tr>\n",
       "    <tr>\n",
       "      <th>3</th>\n",
       "      <td>5.0</td>\n",
       "      <td>3.0</td>\n",
       "      <td>2.0</td>\n",
       "      <td>1.0</td>\n",
       "      <td>1.0</td>\n",
       "      <td>1.0</td>\n",
       "      <td>1.0</td>\n",
       "      <td>2.0</td>\n",
       "      <td>2.0</td>\n",
       "      <td>1.0</td>\n",
       "      <td>...</td>\n",
       "      <td>22.0</td>\n",
       "      <td>172.0</td>\n",
       "      <td>59.0</td>\n",
       "      <td>1.0</td>\n",
       "      <td>female</td>\n",
       "      <td>right handed</td>\n",
       "      <td>college/bachelor degree</td>\n",
       "      <td>yes</td>\n",
       "      <td>city</td>\n",
       "      <td>house/bungalow</td>\n",
       "    </tr>\n",
       "    <tr>\n",
       "      <th>4</th>\n",
       "      <td>5.0</td>\n",
       "      <td>3.0</td>\n",
       "      <td>4.0</td>\n",
       "      <td>3.0</td>\n",
       "      <td>2.0</td>\n",
       "      <td>4.0</td>\n",
       "      <td>3.0</td>\n",
       "      <td>5.0</td>\n",
       "      <td>3.0</td>\n",
       "      <td>1.0</td>\n",
       "      <td>...</td>\n",
       "      <td>20.0</td>\n",
       "      <td>170.0</td>\n",
       "      <td>59.0</td>\n",
       "      <td>1.0</td>\n",
       "      <td>female</td>\n",
       "      <td>right handed</td>\n",
       "      <td>secondary school</td>\n",
       "      <td>no</td>\n",
       "      <td>village</td>\n",
       "      <td>house/bungalow</td>\n",
       "    </tr>\n",
       "  </tbody>\n",
       "</table>\n",
       "<p>5 rows × 150 columns</p>\n",
       "</div>"
      ],
      "text/plain": [
       "   Music  Slow songs or fast songs  Dance  Folk  Country  Classical music  \\\n",
       "0    5.0                       3.0    2.0   1.0      2.0              2.0   \n",
       "1    4.0                       4.0    2.0   1.0      1.0              1.0   \n",
       "2    5.0                       5.0    2.0   2.0      3.0              4.0   \n",
       "3    5.0                       3.0    2.0   1.0      1.0              1.0   \n",
       "4    5.0                       3.0    4.0   3.0      2.0              4.0   \n",
       "\n",
       "   Musical  Pop  Rock  Metal or Hardrock           ...             Age  \\\n",
       "0      1.0  5.0   5.0                1.0           ...            20.0   \n",
       "1      2.0  3.0   5.0                4.0           ...            19.0   \n",
       "2      5.0  3.0   5.0                3.0           ...            20.0   \n",
       "3      1.0  2.0   2.0                1.0           ...            22.0   \n",
       "4      3.0  5.0   3.0                1.0           ...            20.0   \n",
       "\n",
       "   Height  Weight  Number of siblings  Gender  Left - right handed  \\\n",
       "0   163.0    48.0                 1.0  female         right handed   \n",
       "1   163.0    58.0                 2.0  female         right handed   \n",
       "2   176.0    67.0                 2.0  female         right handed   \n",
       "3   172.0    59.0                 1.0  female         right handed   \n",
       "4   170.0    59.0                 1.0  female         right handed   \n",
       "\n",
       "                 Education  Only child  Village - town  House - block of flats  \n",
       "0  college/bachelor degree          no         village          block of flats  \n",
       "1  college/bachelor degree          no            city          block of flats  \n",
       "2         secondary school          no            city          block of flats  \n",
       "3  college/bachelor degree         yes            city          house/bungalow  \n",
       "4         secondary school          no         village          house/bungalow  \n",
       "\n",
       "[5 rows x 150 columns]"
      ]
     },
     "execution_count": 5,
     "metadata": {},
     "output_type": "execute_result"
    }
   ],
   "source": [
    "# Import the csv files and seperate at , \n",
    "responses = \"data/responses.csv\"\n",
    "responsesDf = pd.read_csv(responses, sep=',')\n",
    "\n",
    "responsesDf.head()"
   ]
  },
  {
   "cell_type": "markdown",
   "metadata": {},
   "source": [
    "## 3. Creating segments\n",
    "I decided to start dividing up the data into segments in order to make it easier for myself to work with the data. <br>\n",
    "\n",
    "Pandas offers a nice slicing method for slicing the dataset. I used iloc to create the segments.<br>"
   ]
  },
  {
   "cell_type": "code",
   "execution_count": 8,
   "metadata": {},
   "outputs": [
    {
     "data": {
      "text/html": [
       "<div>\n",
       "<style>\n",
       "    .dataframe thead tr:only-child th {\n",
       "        text-align: right;\n",
       "    }\n",
       "\n",
       "    .dataframe thead th {\n",
       "        text-align: left;\n",
       "    }\n",
       "\n",
       "    .dataframe tbody tr th {\n",
       "        vertical-align: top;\n",
       "    }\n",
       "</style>\n",
       "<table border=\"1\" class=\"dataframe\">\n",
       "  <thead>\n",
       "    <tr style=\"text-align: right;\">\n",
       "      <th></th>\n",
       "      <th>Age</th>\n",
       "      <th>Height</th>\n",
       "      <th>Weight</th>\n",
       "      <th>Number of siblings</th>\n",
       "      <th>Gender</th>\n",
       "      <th>Left - right handed</th>\n",
       "      <th>Education</th>\n",
       "      <th>Only child</th>\n",
       "      <th>Village - town</th>\n",
       "      <th>House - block of flats</th>\n",
       "    </tr>\n",
       "  </thead>\n",
       "  <tbody>\n",
       "    <tr>\n",
       "      <th>0</th>\n",
       "      <td>20.0</td>\n",
       "      <td>163.0</td>\n",
       "      <td>48.0</td>\n",
       "      <td>1.0</td>\n",
       "      <td>female</td>\n",
       "      <td>right handed</td>\n",
       "      <td>college/bachelor degree</td>\n",
       "      <td>no</td>\n",
       "      <td>village</td>\n",
       "      <td>block of flats</td>\n",
       "    </tr>\n",
       "    <tr>\n",
       "      <th>1</th>\n",
       "      <td>19.0</td>\n",
       "      <td>163.0</td>\n",
       "      <td>58.0</td>\n",
       "      <td>2.0</td>\n",
       "      <td>female</td>\n",
       "      <td>right handed</td>\n",
       "      <td>college/bachelor degree</td>\n",
       "      <td>no</td>\n",
       "      <td>city</td>\n",
       "      <td>block of flats</td>\n",
       "    </tr>\n",
       "    <tr>\n",
       "      <th>2</th>\n",
       "      <td>20.0</td>\n",
       "      <td>176.0</td>\n",
       "      <td>67.0</td>\n",
       "      <td>2.0</td>\n",
       "      <td>female</td>\n",
       "      <td>right handed</td>\n",
       "      <td>secondary school</td>\n",
       "      <td>no</td>\n",
       "      <td>city</td>\n",
       "      <td>block of flats</td>\n",
       "    </tr>\n",
       "    <tr>\n",
       "      <th>3</th>\n",
       "      <td>22.0</td>\n",
       "      <td>172.0</td>\n",
       "      <td>59.0</td>\n",
       "      <td>1.0</td>\n",
       "      <td>female</td>\n",
       "      <td>right handed</td>\n",
       "      <td>college/bachelor degree</td>\n",
       "      <td>yes</td>\n",
       "      <td>city</td>\n",
       "      <td>house/bungalow</td>\n",
       "    </tr>\n",
       "    <tr>\n",
       "      <th>4</th>\n",
       "      <td>20.0</td>\n",
       "      <td>170.0</td>\n",
       "      <td>59.0</td>\n",
       "      <td>1.0</td>\n",
       "      <td>female</td>\n",
       "      <td>right handed</td>\n",
       "      <td>secondary school</td>\n",
       "      <td>no</td>\n",
       "      <td>village</td>\n",
       "      <td>house/bungalow</td>\n",
       "    </tr>\n",
       "  </tbody>\n",
       "</table>\n",
       "</div>"
      ],
      "text/plain": [
       "    Age  Height  Weight  Number of siblings  Gender Left - right handed  \\\n",
       "0  20.0   163.0    48.0                 1.0  female        right handed   \n",
       "1  19.0   163.0    58.0                 2.0  female        right handed   \n",
       "2  20.0   176.0    67.0                 2.0  female        right handed   \n",
       "3  22.0   172.0    59.0                 1.0  female        right handed   \n",
       "4  20.0   170.0    59.0                 1.0  female        right handed   \n",
       "\n",
       "                 Education Only child Village - town House - block of flats  \n",
       "0  college/bachelor degree         no        village         block of flats  \n",
       "1  college/bachelor degree         no           city         block of flats  \n",
       "2         secondary school         no           city         block of flats  \n",
       "3  college/bachelor degree        yes           city         house/bungalow  \n",
       "4         secondary school         no        village         house/bungalow  "
      ]
     },
     "execution_count": 8,
     "metadata": {},
     "output_type": "execute_result"
    }
   ],
   "source": [
    "music = responsesDf.iloc[:,0:19]\n",
    "movies = responsesDf.iloc[:,19:31]\n",
    "phobias = responsesDf.iloc[:,63:73]\n",
    "interests = responsesDf.iloc[:,31:63]\n",
    "health = responsesDf.iloc[:,73:76]\n",
    "mindset = responsesDf.iloc[:, 76:133]\n",
    "personal = responsesDf.iloc[:,140:150]\n",
    "spendingHabits = responsesDf.iloc[:,133:140]\n",
    "\n",
    "personal.head()"
   ]
  },
  {
   "cell_type": "markdown",
   "metadata": {},
   "source": [
    "## 4. Missing values "
   ]
  },
  {
   "cell_type": "markdown",
   "metadata": {},
   "source": [
    "I first did some more exploration on which values are missing. I did this for every segment."
   ]
  },
  {
   "cell_type": "markdown",
   "metadata": {},
   "source": [
    "### 4.1 Music segment"
   ]
  },
  {
   "cell_type": "code",
   "execution_count": 4,
   "metadata": {},
   "outputs": [
    {
     "data": {
      "text/plain": [
       "Music                       3\n",
       "Slow songs or fast songs    2\n",
       "Dance                       4\n",
       "Folk                        5\n",
       "Country                     5\n",
       "Classical music             7\n",
       "Musical                     2\n",
       "Pop                         3\n",
       "Rock                        6\n",
       "Metal or Hardrock           3\n",
       "Punk                        8\n",
       "Hiphop, Rap                 4\n",
       "Reggae, Ska                 7\n",
       "Swing, Jazz                 6\n",
       "Rock n roll                 7\n",
       "Alternative                 7\n",
       "Latino                      8\n",
       "Techno, Trance              7\n",
       "Opera                       1\n",
       "dtype: int64"
      ]
     },
     "execution_count": 4,
     "metadata": {},
     "output_type": "execute_result"
    }
   ],
   "source": [
    "### count the amount of missing value in the data frame\n",
    "music.isnull().sum()"
   ]
  },
  {
   "cell_type": "markdown",
   "metadata": {},
   "source": [
    "#### Using Imputer() to transform missing values\n",
    "Scikit Learn offers an imputation transformer for completing missing values\n",
    "See: http://scikit-learn.org/stable/modules/generated/sklearn.preprocessing.Imputer.html \n",
    "\n",
    "I used the most frequent strategy, which uses the mode of the columns. "
   ]
  },
  {
   "cell_type": "code",
   "execution_count": 5,
   "metadata": {},
   "outputs": [
    {
     "data": {
      "text/plain": [
       "Music                       0\n",
       "Slow songs or fast songs    0\n",
       "Dance                       0\n",
       "Folk                        0\n",
       "Country                     0\n",
       "Classical music             0\n",
       "Musical                     0\n",
       "Pop                         0\n",
       "Rock                        0\n",
       "Metal or Hardrock           0\n",
       "Punk                        0\n",
       "Hiphop, Rap                 0\n",
       "Reggae, Ska                 0\n",
       "Swing, Jazz                 0\n",
       "Rock n roll                 0\n",
       "Alternative                 0\n",
       "Latino                      0\n",
       "Techno, Trance              0\n",
       "Opera                       0\n",
       "dtype: int64"
      ]
     },
     "execution_count": 5,
     "metadata": {},
     "output_type": "execute_result"
    }
   ],
   "source": [
    "music = music.replace(\"nan\", np.nan)\n",
    "music = music.replace(\"NaN\", np.nan)\n",
    "\n",
    "imp = Imputer(missing_values='NaN', strategy='most_frequent', axis=0)\n",
    "imp.fit(music)\n",
    "music_data = imp.transform(music)\n",
    "\n",
    "### The missing values are being \n",
    "music = pd.DataFrame(data=music_data[:,:],\n",
    "                     index=[i for i in range(len(music_data))],\n",
    "                     columns=music.columns.tolist())\n",
    "\n",
    "### Check if it indeed worked\n",
    "music.isnull().sum()"
   ]
  },
  {
   "cell_type": "markdown",
   "metadata": {
    "collapsed": true
   },
   "source": [
    "### 4.2 Movies segment"
   ]
  },
  {
   "cell_type": "code",
   "execution_count": 6,
   "metadata": {},
   "outputs": [
    {
     "data": {
      "text/plain": [
       "Movies                 6\n",
       "Horror                 2\n",
       "Thriller               1\n",
       "Comedy                 3\n",
       "Romantic               3\n",
       "Sci-fi                 2\n",
       "War                    2\n",
       "Fantasy/Fairy tales    3\n",
       "Animated               3\n",
       "Documentary            8\n",
       "Western                4\n",
       "Action                 2\n",
       "dtype: int64"
      ]
     },
     "execution_count": 6,
     "metadata": {},
     "output_type": "execute_result"
    }
   ],
   "source": [
    "### count the amount of missing value in the data frame\n",
    "movies.isnull().sum()"
   ]
  },
  {
   "cell_type": "code",
   "execution_count": 7,
   "metadata": {},
   "outputs": [
    {
     "data": {
      "text/plain": [
       "Movies                 0\n",
       "Horror                 0\n",
       "Thriller               0\n",
       "Comedy                 0\n",
       "Romantic               0\n",
       "Sci-fi                 0\n",
       "War                    0\n",
       "Fantasy/Fairy tales    0\n",
       "Animated               0\n",
       "Documentary            0\n",
       "Western                0\n",
       "Action                 0\n",
       "dtype: int64"
      ]
     },
     "execution_count": 7,
     "metadata": {},
     "output_type": "execute_result"
    }
   ],
   "source": [
    "movies = movies.replace(\"nan\", np.nan)\n",
    "movies = movies.replace(\"NaN\", np.nan)\n",
    "\n",
    "imp = Imputer(missing_values='NaN', strategy='most_frequent', axis=0)\n",
    "imp.fit(movies)\n",
    "movies_data = imp.transform(movies)\n",
    "\n",
    "### The missing values are being  \n",
    "movies = pd.DataFrame(data=movies_data[:,:],\n",
    "                     index=[i for i in range(len(movies_data))],\n",
    "                     columns=movies.columns.tolist())\n",
    "\n",
    "### Check if it indeed worked\n",
    "movies.isnull().sum()"
   ]
  },
  {
   "cell_type": "markdown",
   "metadata": {},
   "source": [
    "### 4.2 Phobias segment"
   ]
  },
  {
   "cell_type": "code",
   "execution_count": 8,
   "metadata": {},
   "outputs": [
    {
     "data": {
      "text/plain": [
       "Flying                     3\n",
       "Storm                      1\n",
       "Darkness                   2\n",
       "Heights                    3\n",
       "Spiders                    5\n",
       "Snakes                     0\n",
       "Rats                       3\n",
       "Ageing                     1\n",
       "Dangerous dogs             1\n",
       "Fear of public speaking    1\n",
       "dtype: int64"
      ]
     },
     "execution_count": 8,
     "metadata": {},
     "output_type": "execute_result"
    }
   ],
   "source": [
    "### count the amount of missing value in the data frame\n",
    "phobias.isnull().sum()"
   ]
  },
  {
   "cell_type": "code",
   "execution_count": 9,
   "metadata": {},
   "outputs": [
    {
     "data": {
      "text/plain": [
       "Flying                     0\n",
       "Storm                      0\n",
       "Darkness                   0\n",
       "Heights                    0\n",
       "Spiders                    0\n",
       "Snakes                     0\n",
       "Rats                       0\n",
       "Ageing                     0\n",
       "Dangerous dogs             0\n",
       "Fear of public speaking    0\n",
       "dtype: int64"
      ]
     },
     "execution_count": 9,
     "metadata": {},
     "output_type": "execute_result"
    }
   ],
   "source": [
    "phobias = phobias.replace(\"nan\", np.nan)\n",
    "phobias = phobias.replace(\"NaN\", np.nan)\n",
    "\n",
    "imp = Imputer(missing_values='NaN', strategy='most_frequent', axis=0)\n",
    "imp.fit(phobias)\n",
    "phobias_data = imp.transform(phobias)\n",
    "\n",
    "### The missing values are being  \n",
    "phobias = pd.DataFrame(data=phobias_data[:,:],\n",
    "                     index=[i for i in range(len(phobias_data))],\n",
    "                     columns=phobias.columns.tolist())\n",
    "\n",
    "### Check if it indeed worked\n",
    "phobias.isnull().sum()"
   ]
  },
  {
   "cell_type": "markdown",
   "metadata": {},
   "source": [
    "### 4.3 Interests segment"
   ]
  },
  {
   "cell_type": "code",
   "execution_count": 10,
   "metadata": {},
   "outputs": [
    {
     "data": {
      "text/plain": [
       "History                    2\n",
       "Psychology                 5\n",
       "Politics                   1\n",
       "Mathematics                3\n",
       "Physics                    3\n",
       "Internet                   4\n",
       "PC                         6\n",
       "Economy Management         5\n",
       "Biology                    6\n",
       "Chemistry                 10\n",
       "Reading                    6\n",
       "Geography                  9\n",
       "Foreign languages          5\n",
       "Medicine                   5\n",
       "Law                        1\n",
       "Cars                       4\n",
       "Art exhibitions            6\n",
       "Religion                   3\n",
       "Countryside, outdoors      7\n",
       "Dancing                    3\n",
       "Musical instruments        1\n",
       "Writing                    6\n",
       "Passive sport             15\n",
       "Active sport               4\n",
       "Gardening                  7\n",
       "Celebrities                2\n",
       "Shopping                   2\n",
       "Science and technology     6\n",
       "Theatre                    8\n",
       "Fun with friends           4\n",
       "Adrenaline sports          3\n",
       "Pets                       4\n",
       "dtype: int64"
      ]
     },
     "execution_count": 10,
     "metadata": {},
     "output_type": "execute_result"
    }
   ],
   "source": [
    "### count the amount of missing value in the data frame\n",
    "interests.isnull().sum()"
   ]
  },
  {
   "cell_type": "code",
   "execution_count": 11,
   "metadata": {},
   "outputs": [
    {
     "data": {
      "text/plain": [
       "History                   0\n",
       "Psychology                0\n",
       "Politics                  0\n",
       "Mathematics               0\n",
       "Physics                   0\n",
       "Internet                  0\n",
       "PC                        0\n",
       "Economy Management        0\n",
       "Biology                   0\n",
       "Chemistry                 0\n",
       "Reading                   0\n",
       "Geography                 0\n",
       "Foreign languages         0\n",
       "Medicine                  0\n",
       "Law                       0\n",
       "Cars                      0\n",
       "Art exhibitions           0\n",
       "Religion                  0\n",
       "Countryside, outdoors     0\n",
       "Dancing                   0\n",
       "Musical instruments       0\n",
       "Writing                   0\n",
       "Passive sport             0\n",
       "Active sport              0\n",
       "Gardening                 0\n",
       "Celebrities               0\n",
       "Shopping                  0\n",
       "Science and technology    0\n",
       "Theatre                   0\n",
       "Fun with friends          0\n",
       "Adrenaline sports         0\n",
       "Pets                      0\n",
       "dtype: int64"
      ]
     },
     "execution_count": 11,
     "metadata": {},
     "output_type": "execute_result"
    }
   ],
   "source": [
    "interests = interests.replace(\"nan\", np.nan)\n",
    "interests = interests.replace(\"NaN\", np.nan)\n",
    "\n",
    "imp = Imputer(missing_values='NaN', strategy='most_frequent', axis=0)\n",
    "imp.fit(interests)\n",
    "interests_data = imp.transform(interests)\n",
    "\n",
    "### The missing values are being  \n",
    "interests = pd.DataFrame(data=interests_data[:,:],\n",
    "                     index=[i for i in range(len(interests_data))],\n",
    "                     columns=interests.columns.tolist())\n",
    "\n",
    "### Check if it indeed worked\n",
    "interests.isnull().sum()"
   ]
  },
  {
   "cell_type": "markdown",
   "metadata": {},
   "source": [
    "### 4.4 Health segment"
   ]
  },
  {
   "cell_type": "code",
   "execution_count": 12,
   "metadata": {},
   "outputs": [
    {
     "data": {
      "text/html": [
       "<div>\n",
       "<style>\n",
       "    .dataframe thead tr:only-child th {\n",
       "        text-align: right;\n",
       "    }\n",
       "\n",
       "    .dataframe thead th {\n",
       "        text-align: left;\n",
       "    }\n",
       "\n",
       "    .dataframe tbody tr th {\n",
       "        vertical-align: top;\n",
       "    }\n",
       "</style>\n",
       "<table border=\"1\" class=\"dataframe\">\n",
       "  <thead>\n",
       "    <tr style=\"text-align: right;\">\n",
       "      <th></th>\n",
       "      <th>Smoking</th>\n",
       "      <th>Alcohol</th>\n",
       "      <th>Healthy eating</th>\n",
       "    </tr>\n",
       "  </thead>\n",
       "  <tbody>\n",
       "    <tr>\n",
       "      <th>0</th>\n",
       "      <td>never smoked</td>\n",
       "      <td>drink a lot</td>\n",
       "      <td>4.0</td>\n",
       "    </tr>\n",
       "    <tr>\n",
       "      <th>1</th>\n",
       "      <td>never smoked</td>\n",
       "      <td>drink a lot</td>\n",
       "      <td>3.0</td>\n",
       "    </tr>\n",
       "    <tr>\n",
       "      <th>2</th>\n",
       "      <td>tried smoking</td>\n",
       "      <td>drink a lot</td>\n",
       "      <td>3.0</td>\n",
       "    </tr>\n",
       "    <tr>\n",
       "      <th>3</th>\n",
       "      <td>former smoker</td>\n",
       "      <td>drink a lot</td>\n",
       "      <td>3.0</td>\n",
       "    </tr>\n",
       "    <tr>\n",
       "      <th>4</th>\n",
       "      <td>tried smoking</td>\n",
       "      <td>social drinker</td>\n",
       "      <td>4.0</td>\n",
       "    </tr>\n",
       "  </tbody>\n",
       "</table>\n",
       "</div>"
      ],
      "text/plain": [
       "         Smoking         Alcohol  Healthy eating\n",
       "0   never smoked     drink a lot             4.0\n",
       "1   never smoked     drink a lot             3.0\n",
       "2  tried smoking     drink a lot             3.0\n",
       "3  former smoker     drink a lot             3.0\n",
       "4  tried smoking  social drinker             4.0"
      ]
     },
     "execution_count": 12,
     "metadata": {},
     "output_type": "execute_result"
    }
   ],
   "source": [
    "health.head()"
   ]
  },
  {
   "cell_type": "markdown",
   "metadata": {},
   "source": [
    "### 4.5 SpendingHabits"
   ]
  },
  {
   "cell_type": "code",
   "execution_count": 13,
   "metadata": {},
   "outputs": [
    {
     "data": {
      "text/html": [
       "<div>\n",
       "<style>\n",
       "    .dataframe thead tr:only-child th {\n",
       "        text-align: right;\n",
       "    }\n",
       "\n",
       "    .dataframe thead th {\n",
       "        text-align: left;\n",
       "    }\n",
       "\n",
       "    .dataframe tbody tr th {\n",
       "        vertical-align: top;\n",
       "    }\n",
       "</style>\n",
       "<table border=\"1\" class=\"dataframe\">\n",
       "  <thead>\n",
       "    <tr style=\"text-align: right;\">\n",
       "      <th></th>\n",
       "      <th>Finances</th>\n",
       "      <th>Shopping centres</th>\n",
       "      <th>Branded clothing</th>\n",
       "      <th>Entertainment spending</th>\n",
       "      <th>Spending on looks</th>\n",
       "      <th>Spending on gadgets</th>\n",
       "      <th>Spending on healthy eating</th>\n",
       "    </tr>\n",
       "  </thead>\n",
       "  <tbody>\n",
       "    <tr>\n",
       "      <th>0</th>\n",
       "      <td>3.0</td>\n",
       "      <td>4.0</td>\n",
       "      <td>5.0</td>\n",
       "      <td>3.0</td>\n",
       "      <td>3.0</td>\n",
       "      <td>1</td>\n",
       "      <td>3.0</td>\n",
       "    </tr>\n",
       "    <tr>\n",
       "      <th>1</th>\n",
       "      <td>3.0</td>\n",
       "      <td>4.0</td>\n",
       "      <td>1.0</td>\n",
       "      <td>4.0</td>\n",
       "      <td>2.0</td>\n",
       "      <td>5</td>\n",
       "      <td>2.0</td>\n",
       "    </tr>\n",
       "    <tr>\n",
       "      <th>2</th>\n",
       "      <td>2.0</td>\n",
       "      <td>4.0</td>\n",
       "      <td>1.0</td>\n",
       "      <td>4.0</td>\n",
       "      <td>3.0</td>\n",
       "      <td>4</td>\n",
       "      <td>2.0</td>\n",
       "    </tr>\n",
       "    <tr>\n",
       "      <th>3</th>\n",
       "      <td>2.0</td>\n",
       "      <td>4.0</td>\n",
       "      <td>3.0</td>\n",
       "      <td>3.0</td>\n",
       "      <td>4.0</td>\n",
       "      <td>4</td>\n",
       "      <td>1.0</td>\n",
       "    </tr>\n",
       "    <tr>\n",
       "      <th>4</th>\n",
       "      <td>4.0</td>\n",
       "      <td>3.0</td>\n",
       "      <td>4.0</td>\n",
       "      <td>3.0</td>\n",
       "      <td>3.0</td>\n",
       "      <td>2</td>\n",
       "      <td>4.0</td>\n",
       "    </tr>\n",
       "  </tbody>\n",
       "</table>\n",
       "</div>"
      ],
      "text/plain": [
       "   Finances  Shopping centres  Branded clothing  Entertainment spending  \\\n",
       "0       3.0               4.0               5.0                     3.0   \n",
       "1       3.0               4.0               1.0                     4.0   \n",
       "2       2.0               4.0               1.0                     4.0   \n",
       "3       2.0               4.0               3.0                     3.0   \n",
       "4       4.0               3.0               4.0                     3.0   \n",
       "\n",
       "   Spending on looks  Spending on gadgets  Spending on healthy eating  \n",
       "0                3.0                    1                         3.0  \n",
       "1                2.0                    5                         2.0  \n",
       "2                3.0                    4                         2.0  \n",
       "3                4.0                    4                         1.0  \n",
       "4                3.0                    2                         4.0  "
      ]
     },
     "execution_count": 13,
     "metadata": {},
     "output_type": "execute_result"
    }
   ],
   "source": [
    "spendingHabits.head()"
   ]
  },
  {
   "cell_type": "code",
   "execution_count": 14,
   "metadata": {},
   "outputs": [
    {
     "data": {
      "text/plain": [
       "Finances                      0\n",
       "Shopping centres              0\n",
       "Branded clothing              0\n",
       "Entertainment spending        0\n",
       "Spending on looks             0\n",
       "Spending on gadgets           0\n",
       "Spending on healthy eating    0\n",
       "dtype: int64"
      ]
     },
     "execution_count": 14,
     "metadata": {},
     "output_type": "execute_result"
    }
   ],
   "source": [
    "spendingHabits = spendingHabits.replace(\"nan\", np.nan)\n",
    "spendingHabits = spendingHabits.replace(\"NaN\", np.nan)\n",
    "\n",
    "imp = Imputer(missing_values='NaN', strategy='most_frequent', axis=0)\n",
    "imp.fit(spendingHabits)\n",
    "spendingHabits_data = imp.transform(spendingHabits)\n",
    "\n",
    "### The missing values are being  \n",
    "spendingHabits = pd.DataFrame(data=spendingHabits_data[:,:],\n",
    "                     index=[i for i in range(len(spendingHabits_data))],\n",
    "                     columns=spendingHabits.columns.tolist())\n",
    "\n",
    "### Check if it indeed worked\n",
    "spendingHabits.isnull().sum()"
   ]
  },
  {
   "cell_type": "markdown",
   "metadata": {},
   "source": [
    "### 4.6 Mindset\n",
    "\n",
    "HIER KOMT NOG TEXT"
   ]
  },
  {
   "cell_type": "code",
   "execution_count": 15,
   "metadata": {},
   "outputs": [
    {
     "data": {
      "text/plain": [
       "Daily events                      7\n",
       "Prioritising workload             5\n",
       "Writing notes                     3\n",
       "Workaholism                       5\n",
       "Thinking ahead                    3\n",
       "Final judgement                   7\n",
       "Reliability                       4\n",
       "Keeping promises                  1\n",
       "Loss of interest                  4\n",
       "Friends versus money              6\n",
       "Funniness                         4\n",
       "Fake                              1\n",
       "Criminal damage                   7\n",
       "Decision making                   4\n",
       "Elections                         3\n",
       "Self-criticism                    5\n",
       "Judgment calls                    4\n",
       "Hypochondria                      4\n",
       "Empathy                           5\n",
       "Eating to survive                 0\n",
       "Giving                            6\n",
       "Compassion to animals             7\n",
       "Borrowed stuff                    2\n",
       "Loneliness                        1\n",
       "Cheating in school                4\n",
       "Health                            1\n",
       "Changing the past                 2\n",
       "God                               2\n",
       "Dreams                            0\n",
       "Charity                           3\n",
       "Number of friends                 0\n",
       "Punctuality                       2\n",
       "Lying                             2\n",
       "Waiting                           3\n",
       "New environment                   2\n",
       "Mood swings                       4\n",
       "Appearence and gestures           3\n",
       "Socializing                       5\n",
       "Achievements                      2\n",
       "Responding to a serious letter    6\n",
       "Children                          4\n",
       "Assertiveness                     2\n",
       "Getting angry                     4\n",
       "Knowing the right people          2\n",
       "Public speaking                   2\n",
       "Unpopularity                      3\n",
       "Life struggles                    3\n",
       "Happiness in life                 4\n",
       "Energy levels                     5\n",
       "Small - big dogs                  4\n",
       "Personality                       4\n",
       "Finding lost valuables            4\n",
       "Getting up                        5\n",
       "Interests or hobbies              3\n",
       "Parents' advice                   2\n",
       "Questionnaires or polls           4\n",
       "Internet usage                    0\n",
       "dtype: int64"
      ]
     },
     "execution_count": 15,
     "metadata": {},
     "output_type": "execute_result"
    }
   ],
   "source": [
    "# get unique column values for Punctuality column\n",
    "mindset[\"Punctuality\"].unique()\n",
    "\n",
    "# convert \"Punctuality\" column to integers\n",
    "for i in mindset[\"Punctuality\"]:\n",
    "    if i == \"i am often running late\":\n",
    "        mindset.replace(i, 1.0, inplace=True)\n",
    "    elif i == \"i am always on time\":\n",
    "        mindset.replace(i, 2.0, inplace=True)\n",
    "    elif i == \"i am often early\":\n",
    "        mindset.replace(i, 3.0, inplace=True)\n",
    "    \n",
    "# second column containing categorical data\n",
    "mindset[\"Lying\"].unique()\n",
    "\n",
    "# convert \"Lying\" column to integers\n",
    "for i in mindset[\"Lying\"]:\n",
    "    if i == \"never\":\n",
    "        mindset.replace(i, 1.0, inplace=True)\n",
    "    elif i == \"only to avoid hurting someone\":\n",
    "        mindset.replace(i, 2.0, inplace=True)\n",
    "    elif i == \"sometimes\":\n",
    "        mindset.replace(i, 3.0, inplace=True)\n",
    "    elif i == \"everytime it suits me\":\n",
    "        mindset.replace(i, 4.0, inplace=True)\n",
    "\n",
    "        \n",
    "# third column containing categorical data\n",
    "mindset[\"Internet usage\"].unique()\n",
    "\n",
    "\n",
    "# convert \"Internet usage\" column to integers\n",
    "for i in mindset[\"Internet usage\"]:\n",
    "    if i == \"no time at all\":\n",
    "        mindset.replace(i, 1.0, inplace=True)\n",
    "    elif i == \"less than an hour a day\":\n",
    "        mindset.replace(i, 2.0, inplace=True)\n",
    "    elif i == \"few hours a day\":\n",
    "        mindset.replace(i, 3.0, inplace=True)\n",
    "    elif i == \"most of the day\":\n",
    "        mindset.replace(i, 4.0, inplace=True)\n",
    "\n",
    "mindset.isnull().sum()"
   ]
  },
  {
   "cell_type": "code",
   "execution_count": 16,
   "metadata": {},
   "outputs": [
    {
     "data": {
      "text/plain": [
       "Daily events                      0\n",
       "Prioritising workload             0\n",
       "Writing notes                     0\n",
       "Workaholism                       0\n",
       "Thinking ahead                    0\n",
       "Final judgement                   0\n",
       "Reliability                       0\n",
       "Keeping promises                  0\n",
       "Loss of interest                  0\n",
       "Friends versus money              0\n",
       "Funniness                         0\n",
       "Fake                              0\n",
       "Criminal damage                   0\n",
       "Decision making                   0\n",
       "Elections                         0\n",
       "Self-criticism                    0\n",
       "Judgment calls                    0\n",
       "Hypochondria                      0\n",
       "Empathy                           0\n",
       "Eating to survive                 0\n",
       "Giving                            0\n",
       "Compassion to animals             0\n",
       "Borrowed stuff                    0\n",
       "Loneliness                        0\n",
       "Cheating in school                0\n",
       "Health                            0\n",
       "Changing the past                 0\n",
       "God                               0\n",
       "Dreams                            0\n",
       "Charity                           0\n",
       "Number of friends                 0\n",
       "Punctuality                       0\n",
       "Lying                             0\n",
       "Waiting                           0\n",
       "New environment                   0\n",
       "Mood swings                       0\n",
       "Appearence and gestures           0\n",
       "Socializing                       0\n",
       "Achievements                      0\n",
       "Responding to a serious letter    0\n",
       "Children                          0\n",
       "Assertiveness                     0\n",
       "Getting angry                     0\n",
       "Knowing the right people          0\n",
       "Public speaking                   0\n",
       "Unpopularity                      0\n",
       "Life struggles                    0\n",
       "Happiness in life                 0\n",
       "Energy levels                     0\n",
       "Small - big dogs                  0\n",
       "Personality                       0\n",
       "Finding lost valuables            0\n",
       "Getting up                        0\n",
       "Interests or hobbies              0\n",
       "Parents' advice                   0\n",
       "Questionnaires or polls           0\n",
       "Internet usage                    0\n",
       "dtype: int64"
      ]
     },
     "execution_count": 16,
     "metadata": {},
     "output_type": "execute_result"
    }
   ],
   "source": [
    "mindset = mindset.replace(\"nan\", np.nan)\n",
    "mindset = mindset.replace(\"NaN\", np.nan)\n",
    "\n",
    "imp = Imputer(missing_values='NaN', strategy='most_frequent', axis=0)\n",
    "imp.fit(mindset)\n",
    "mindset_data = imp.transform(mindset)\n",
    "\n",
    "### The missing values are being  \n",
    "mindset = pd.DataFrame(data=mindset_data[:,:],\n",
    "                     index=[i for i in range(len(mindset_data))],\n",
    "                     columns=mindset.columns.tolist())\n",
    "\n",
    "### Check if it indeed worked\n",
    "mindset.isnull().sum()"
   ]
  },
  {
   "cell_type": "markdown",
   "metadata": {},
   "source": [
    "### 4.6 Personal"
   ]
  },
  {
   "cell_type": "code",
   "execution_count": 17,
   "metadata": {},
   "outputs": [
    {
     "data": {
      "text/plain": [
       "array(['female', 'male', nan], dtype=object)"
      ]
     },
     "execution_count": 17,
     "metadata": {},
     "output_type": "execute_result"
    }
   ],
   "source": [
    "# first column with categorical data\n",
    "personal[\"Gender\"].unique()"
   ]
  },
  {
   "cell_type": "code",
   "execution_count": 18,
   "metadata": {
    "collapsed": true
   },
   "outputs": [],
   "source": [
    "# convert \"Gender\" column to integers\n",
    "for i in personal[\"Gender\"]:\n",
    "    if i == \"female\":\n",
    "        personal.replace(i, 1.0, inplace=True)\n",
    "    elif i == \"male\":\n",
    "        personal.replace(i, 2.0, inplace=True)"
   ]
  },
  {
   "cell_type": "code",
   "execution_count": 19,
   "metadata": {},
   "outputs": [
    {
     "data": {
      "text/plain": [
       "array(['right handed', 'left handed', nan], dtype=object)"
      ]
     },
     "execution_count": 19,
     "metadata": {},
     "output_type": "execute_result"
    }
   ],
   "source": [
    "# second column with categorical data\n",
    "personal[\"Left - right handed\"].unique()"
   ]
  },
  {
   "cell_type": "code",
   "execution_count": 20,
   "metadata": {
    "collapsed": true
   },
   "outputs": [],
   "source": [
    "# convert \"Left - right handed\" column to integers\n",
    "for i in personal[\"Left - right handed\"]:\n",
    "    if i == \"right handed\":\n",
    "        personal.replace(i, 1.0, inplace=True)\n",
    "    elif i == \"left handed\":\n",
    "        personal.replace(i, 2.0, inplace=True)"
   ]
  },
  {
   "cell_type": "code",
   "execution_count": 21,
   "metadata": {},
   "outputs": [
    {
     "data": {
      "text/plain": [
       "array(['college/bachelor degree', 'secondary school', 'primary school',\n",
       "       'masters degree', 'doctorate degree',\n",
       "       'currently a primary school pupil', nan], dtype=object)"
      ]
     },
     "execution_count": 21,
     "metadata": {},
     "output_type": "execute_result"
    }
   ],
   "source": [
    "# third column with categorical data\n",
    "personal[\"Education\"].unique()"
   ]
  },
  {
   "cell_type": "code",
   "execution_count": 22,
   "metadata": {
    "collapsed": true
   },
   "outputs": [],
   "source": [
    "# convert \"Education\" column to integers\n",
    "for i in personal[\"Education\"].unique():\n",
    "    if i == \"currently a primary school pupil\":\n",
    "        personal.replace(i, 1.0, inplace=True)\n",
    "    elif i == \"primary school\":\n",
    "        personal.replace(i, 2.0, inplace=True)\n",
    "    elif i == \"secondary school\":\n",
    "        personal.replace(i, 3.0, inplace=True)\n",
    "    elif i == \"college/bachelor degree\":\n",
    "        personal.replace(i, 4.0, inplace=True)\n",
    "    elif i == \"masters degree\":\n",
    "        personal.replace(i, 5.0, inplace=True)\n",
    "    elif i == \"doctorate degree\":\n",
    "        personal.replace(i, 6.0, inplace=True)"
   ]
  },
  {
   "cell_type": "code",
   "execution_count": 23,
   "metadata": {},
   "outputs": [
    {
     "data": {
      "text/plain": [
       "array(['no', 'yes', nan], dtype=object)"
      ]
     },
     "execution_count": 23,
     "metadata": {},
     "output_type": "execute_result"
    }
   ],
   "source": [
    "# fourth column with categorical data\n",
    "personal[\"Only child\"].unique()"
   ]
  },
  {
   "cell_type": "code",
   "execution_count": 24,
   "metadata": {
    "collapsed": true
   },
   "outputs": [],
   "source": [
    "# convert \"Only child\" column to integers\n",
    "for i in personal[\"Only child\"]:\n",
    "    if i == \"yes\":\n",
    "        personal.replace(i, 1.0, inplace=True)\n",
    "    elif i == \"no\":\n",
    "        personal.replace(i, 2.0, inplace=True)"
   ]
  },
  {
   "cell_type": "code",
   "execution_count": 25,
   "metadata": {},
   "outputs": [
    {
     "data": {
      "text/plain": [
       "array(['village', 'city', nan], dtype=object)"
      ]
     },
     "execution_count": 25,
     "metadata": {},
     "output_type": "execute_result"
    }
   ],
   "source": [
    "# fifth column with categorical data\n",
    "personal[\"Village - town\"].unique()"
   ]
  },
  {
   "cell_type": "code",
   "execution_count": 26,
   "metadata": {
    "collapsed": true
   },
   "outputs": [],
   "source": [
    "for i in personal[\"Village - town\"]:\n",
    "    if i==\"village\":\n",
    "        personal[\"Village - town\"].replace(i, 1.0, inplace=True)\n",
    "    elif i==\"city\":\n",
    "        personal[\"Village - town\"].replace(i, 2.0, inplace=True)"
   ]
  },
  {
   "cell_type": "code",
   "execution_count": 27,
   "metadata": {
    "collapsed": true
   },
   "outputs": [],
   "source": [
    "# sixth column with categorical data\n",
    "for i in personal[\"House - block of flats\"]:\n",
    "    if i == \"block of flats\":\n",
    "        personal[\"House - block of flats\"].replace(i, 1, inplace=True)\n",
    "    elif i == \"house/bungalow\":\n",
    "        personal[\"House - block of flats\"].replace(i, 2, inplace=True)"
   ]
  },
  {
   "cell_type": "code",
   "execution_count": 28,
   "metadata": {
    "collapsed": true
   },
   "outputs": [],
   "source": [
    "personal = personal.replace(\"nan\", np.nan)\n",
    "personal = personal.replace(\"NaN\", np.nan)"
   ]
  },
  {
   "cell_type": "code",
   "execution_count": 29,
   "metadata": {
    "collapsed": true
   },
   "outputs": [],
   "source": [
    "# replace nan values with column mode\n",
    "imp = Imputer(missing_values='NaN', strategy='most_frequent', axis=0)\n",
    "imp.fit(personal)\n",
    "personal_data = imp.transform(personal)\n",
    "personal = pd.DataFrame(data=personal_data[:,:],\n",
    "                     index=[i for i in range(len(personal_data))],\n",
    "                     columns=personal.columns.tolist())"
   ]
  },
  {
   "cell_type": "code",
   "execution_count": 30,
   "metadata": {},
   "outputs": [
    {
     "data": {
      "text/plain": [
       "Daily events                      0\n",
       "Prioritising workload             0\n",
       "Writing notes                     0\n",
       "Workaholism                       0\n",
       "Thinking ahead                    0\n",
       "Final judgement                   0\n",
       "Reliability                       0\n",
       "Keeping promises                  0\n",
       "Loss of interest                  0\n",
       "Friends versus money              0\n",
       "Funniness                         0\n",
       "Fake                              0\n",
       "Criminal damage                   0\n",
       "Decision making                   0\n",
       "Elections                         0\n",
       "Self-criticism                    0\n",
       "Judgment calls                    0\n",
       "Hypochondria                      0\n",
       "Empathy                           0\n",
       "Eating to survive                 0\n",
       "Giving                            0\n",
       "Compassion to animals             0\n",
       "Borrowed stuff                    0\n",
       "Loneliness                        0\n",
       "Cheating in school                0\n",
       "Health                            0\n",
       "Changing the past                 0\n",
       "God                               0\n",
       "Dreams                            0\n",
       "Charity                           0\n",
       "Number of friends                 0\n",
       "Punctuality                       0\n",
       "Lying                             0\n",
       "Waiting                           0\n",
       "New environment                   0\n",
       "Mood swings                       0\n",
       "Appearence and gestures           0\n",
       "Socializing                       0\n",
       "Achievements                      0\n",
       "Responding to a serious letter    0\n",
       "Children                          0\n",
       "Assertiveness                     0\n",
       "Getting angry                     0\n",
       "Knowing the right people          0\n",
       "Public speaking                   0\n",
       "Unpopularity                      0\n",
       "Life struggles                    0\n",
       "Happiness in life                 0\n",
       "Energy levels                     0\n",
       "Small - big dogs                  0\n",
       "Personality                       0\n",
       "Finding lost valuables            0\n",
       "Getting up                        0\n",
       "Interests or hobbies              0\n",
       "Parents' advice                   0\n",
       "Questionnaires or polls           0\n",
       "Internet usage                    0\n",
       "dtype: int64"
      ]
     },
     "execution_count": 30,
     "metadata": {},
     "output_type": "execute_result"
    }
   ],
   "source": [
    "### Check if it indeed worked\n",
    "mindset.isnull().sum()"
   ]
  },
  {
   "cell_type": "markdown",
   "metadata": {
    "collapsed": true
   },
   "source": [
    "### 4.7 Personal"
   ]
  },
  {
   "cell_type": "code",
   "execution_count": 31,
   "metadata": {},
   "outputs": [
    {
     "data": {
      "text/plain": [
       "array(['never smoked', 'tried smoking', 'former smoker', 'current smoker',\n",
       "       nan], dtype=object)"
      ]
     },
     "execution_count": 31,
     "metadata": {},
     "output_type": "execute_result"
    }
   ],
   "source": [
    "# first column with categorical data\n",
    "health[\"Smoking\"].unique()"
   ]
  },
  {
   "cell_type": "code",
   "execution_count": 32,
   "metadata": {
    "collapsed": true
   },
   "outputs": [],
   "source": [
    "# convert \"Smoking\" column to integers\n",
    "for i in health[\"Smoking\"]:\n",
    "    if i == \"never smoked\":\n",
    "        health.replace(i, 1.0, inplace=True)\n",
    "    elif i == \"tried smoking\":\n",
    "        health.replace(i, 2.0, inplace=True)\n",
    "    elif i == \"former smoker\":\n",
    "        health.replace(i, 3.0, inplace=True)\n",
    "    elif i == \"current smoker\":\n",
    "        health.replace(i, 4.0, inplace=True)"
   ]
  },
  {
   "cell_type": "code",
   "execution_count": 33,
   "metadata": {},
   "outputs": [
    {
     "data": {
      "text/plain": [
       "array(['drink a lot', 'social drinker', 'never', nan], dtype=object)"
      ]
     },
     "execution_count": 33,
     "metadata": {},
     "output_type": "execute_result"
    }
   ],
   "source": [
    "# second column with categorical data\n",
    "health[\"Alcohol\"].unique()"
   ]
  },
  {
   "cell_type": "code",
   "execution_count": 34,
   "metadata": {
    "collapsed": true
   },
   "outputs": [],
   "source": [
    "# convert \"Alcohol\" column to integers\n",
    "for i in health[\"Alcohol\"]:\n",
    "    if i == \"never\":\n",
    "        health.replace(i, 1.0, inplace=True)\n",
    "    elif i == \"social drinker\":\n",
    "        health.replace(i, 2.0, inplace=True)\n",
    "    elif i == \"drink a lot\":\n",
    "        health.replace(i, 3.0, inplace=True)"
   ]
  },
  {
   "cell_type": "code",
   "execution_count": 35,
   "metadata": {
    "collapsed": true
   },
   "outputs": [],
   "source": [
    "# replace string nans with numpy compatible nan value\n",
    "health = health.replace(\"nan\", np.nan)\n",
    "health = health.replace(\"NaN\", np.nan)"
   ]
  },
  {
   "cell_type": "code",
   "execution_count": 36,
   "metadata": {
    "collapsed": true
   },
   "outputs": [],
   "source": [
    "# replace nans with column mode\n",
    "imp = Imputer(missing_values='NaN', strategy='most_frequent', axis=0)\n",
    "imp.fit(health)\n",
    "health_data = imp.transform(health)\n",
    "health = pd.DataFrame(data=health_data[:,:],\n",
    "                     index=[i for i in range(len(health_data))],\n",
    "                     columns=health.columns.tolist())"
   ]
  },
  {
   "cell_type": "markdown",
   "metadata": {},
   "source": [
    "## 5. Merge segments to one dataFrame"
   ]
  },
  {
   "cell_type": "code",
   "execution_count": 39,
   "metadata": {
    "collapsed": true
   },
   "outputs": [],
   "source": [
    "# merge all subframes to one large dataframe\n",
    "completeDataframe = music.join(movies.join(phobias.join(interests.join(health.join(personal.join(mindset.join(spendingHabits)))))))"
   ]
  },
  {
   "cell_type": "code",
   "execution_count": null,
   "metadata": {
    "collapsed": true
   },
   "outputs": [],
   "source": [
    "completeDataframe.head()\n",
    "\n",
    "## output the dataframe as new data \n",
    "completeDataframe.to_csv('cleaned-version.csv')"
   ]
  }
 ],
 "metadata": {
  "kernelspec": {
   "display_name": "Python 3",
   "language": "python",
   "name": "python3"
  },
  "language_info": {
   "codemirror_mode": {
    "name": "ipython",
    "version": 3
   },
   "file_extension": ".py",
   "mimetype": "text/x-python",
   "name": "python",
   "nbconvert_exporter": "python",
   "pygments_lexer": "ipython3",
   "version": "3.6.1"
  }
 },
 "nbformat": 4,
 "nbformat_minor": 2
}
